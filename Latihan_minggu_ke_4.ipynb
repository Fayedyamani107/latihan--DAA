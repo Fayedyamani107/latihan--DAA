{
  "nbformat": 4,
  "nbformat_minor": 0,
  "metadata": {
    "colab": {
      "provenance": [],
      "authorship_tag": "ABX9TyPk1bnKpClnODvhf4V5BhVX",
      "include_colab_link": true
    },
    "kernelspec": {
      "name": "python3",
      "display_name": "Python 3"
    },
    "language_info": {
      "name": "python"
    }
  },
  "cells": [
    {
      "cell_type": "markdown",
      "metadata": {
        "id": "view-in-github",
        "colab_type": "text"
      },
      "source": [
        "<a href=\"https://colab.research.google.com/github/Fayedyamani107/latihan--DAA/blob/main/Latihan_minggu_ke_4.ipynb\" target=\"_parent\"><img src=\"https://colab.research.google.com/assets/colab-badge.svg\" alt=\"Open In Colab\"/></a>"
      ]
    },
    {
      "cell_type": "code",
      "execution_count": null,
      "metadata": {
        "id": "KXiChLk1QfmI",
        "colab": {
          "base_uri": "https://localhost:8080/"
        },
        "outputId": "a860fa85-a7a3-453e-9c76-b8594f5d0afa"
      },
      "outputs": [
        {
          "output_type": "stream",
          "name": "stdout",
          "text": [
            "3 2 1\n"
          ]
        }
      ],
      "source": [
        "#swqp function\n",
        "var1 = 1\n",
        "var2 = 2\n",
        "var3 = 3\n",
        "var1,var2,var3 = var3,var2,var1\n",
        "\n",
        "print(var1,var2,var3)"
      ]
    },
    {
      "cell_type": "code",
      "source": [
        "list = [100,20,60,90,40,30,10]\n",
        "\n",
        "lastElementIndex = len(list)-1\n",
        "print(0,list)\n",
        "for idx in range(lastElementIndex):\n",
        "          if list[idx]>list[idx+1]:\n",
        "             list[idx],list[idx+1]=list[idx+1],list[idx]\n",
        "             print(idx+1,list)"
      ],
      "metadata": {
        "colab": {
          "base_uri": "https://localhost:8080/"
        },
        "id": "qoZE3E9xaBMp",
        "outputId": "13290440-a8e1-424e-e7fc-2f671a12a939"
      },
      "execution_count": null,
      "outputs": [
        {
          "output_type": "stream",
          "name": "stdout",
          "text": [
            "0 [100, 20, 60, 90, 40, 30, 10]\n",
            "1 [20, 100, 60, 90, 40, 30, 10]\n",
            "2 [20, 60, 100, 90, 40, 30, 10]\n",
            "3 [20, 60, 90, 100, 40, 30, 10]\n",
            "4 [20, 60, 90, 40, 100, 30, 10]\n",
            "5 [20, 60, 90, 40, 30, 100, 10]\n",
            "6 [20, 60, 90, 40, 30, 10, 100]\n"
          ]
        }
      ]
    },
    {
      "cell_type": "code",
      "source": [
        "list = [89,12,57,16,25,11,75]\n",
        "\n",
        "def InsertionSort(list):\n",
        "    for i in range(1, len(list)):\n",
        "        j = i - 1\n",
        "        next = list[i]\n",
        "\n",
        "        while (list[j] > next) and (j >= 0):\n",
        "          list[j+1] = list[j]\n",
        "          j=j-1\n",
        "        list[j+1] = next\n",
        "    return list\n",
        "print(list)"
      ],
      "metadata": {
        "id": "V9s_W9iOp392",
        "colab": {
          "base_uri": "https://localhost:8080/"
        },
        "outputId": "2df11136-4996-48ed-a297-e51edf1f7f62"
      },
      "execution_count": 2,
      "outputs": [
        {
          "output_type": "stream",
          "name": "stdout",
          "text": [
            "[89, 12, 57, 16, 25, 11, 75]\n"
          ]
        }
      ]
    },
    {
      "cell_type": "code",
      "source": [
        "list = [89,12,57,16,25]\n",
        "\n",
        "def SelectionSort(list):\n",
        "  for fill_slot in range(len(list) - 1, 0, -1):\n",
        "    max_index = 0\n",
        "    for location in range (1, fill_slot + 1):\n",
        "      if list[location] > list[max_index]:\n",
        "        max_index = location\n",
        "    list[fill_slot],list[max_index] = list[max_index],list[fill_slot]\n",
        "  return list\n",
        "\n",
        "print(list)"
      ],
      "metadata": {
        "colab": {
          "base_uri": "https://localhost:8080/"
        },
        "id": "5NBLR_NyBtO9",
        "outputId": "ee612737-9e6f-4d3f-afa7-dd4b18427e0e"
      },
      "execution_count": 4,
      "outputs": [
        {
          "output_type": "stream",
          "name": "stdout",
          "text": [
            "[89, 12, 57, 16, 25]\n"
          ]
        }
      ]
    },
    {
      "cell_type": "code",
      "source": [
        "my_list = ['y', 'u', 'i', 'w', 'o', 'a', 'q', 'u', 'j', 'p']\n",
        "\n",
        "def LinearSearch(my_list, item):\n",
        "    index = 0\n",
        "    found = False\n",
        "\n",
        "    while index < len(my_list) and not found:\n",
        "        if my_list[index] == item:\n",
        "            found = True\n",
        "        else:\n",
        "            index = index + 1\n",
        "\n",
        "    return found\n",
        "\n",
        "item_to_find = 'a'\n",
        "result = LinearSearch(my_list, item_to_find)\n",
        "\n",
        "if result:\n",
        "    print(f\"'{item_to_find}' ditemukan dalam list.\")\n",
        "else:\n",
        "    print(f\"'{item_to_find}' tidak ditemukan dalam list.\")\n"
      ],
      "metadata": {
        "colab": {
          "base_uri": "https://localhost:8080/"
        },
        "id": "K97Q23e2FmOO",
        "outputId": "3c5e4413-08fb-4e62-c6a7-da1d5b638394"
      },
      "execution_count": 7,
      "outputs": [
        {
          "output_type": "stream",
          "name": "stdout",
          "text": [
            "'a' ditemukan dalam list.\n"
          ]
        }
      ]
    },
    {
      "cell_type": "code",
      "source": [
        "my_list = ['y', 'u', 'i', 'w', 'o', 'a', 'q', 'u', 'j', 'p']\n",
        "\n",
        "def InterpolationSearch(my_list, item):\n",
        "    low = 0\n",
        "    high = len(my_list) - 1\n",
        "\n",
        "    while low <= high and my_list[low] <= item <= my_list[high]:\n",
        "        pos = low + ((item - my_list[low]) * (high - low)) // (my_list[high] - my_list[low])\n",
        "\n",
        "        if my_list[pos] == item:\n",
        "            return pos\n",
        "        elif my_list[pos] < item:\n",
        "            low = pos + 1\n",
        "        else:\n",
        "            high = pos - 1\n",
        "\n",
        "    return -1\n",
        "\n",
        "item_to_find = 'u'\n",
        "result = InterpolationSearch(my_list, item_to_find)\n",
        "\n",
        "if result != -1:\n",
        "    print(f\"'{item_to_find}' ditemukan pada indeks {result}.\")\n",
        "else:\n",
        "    print(f\"'{item_to_find}' tidak ditemukan dalam list.\")\n"
      ],
      "metadata": {
        "colab": {
          "base_uri": "https://localhost:8080/"
        },
        "id": "wzlt9wXoJ5Xc",
        "outputId": "d04f53a4-2c82-4cc9-8621-c52126bef9e0"
      },
      "execution_count": 13,
      "outputs": [
        {
          "output_type": "stream",
          "name": "stdout",
          "text": [
            "'u' tidak ditemukan dalam list.\n"
          ]
        }
      ]
    },
    {
      "cell_type": "code",
      "source": [],
      "metadata": {
        "id": "N8B6PN-DOyrK"
      },
      "execution_count": null,
      "outputs": []
    }
  ]
}