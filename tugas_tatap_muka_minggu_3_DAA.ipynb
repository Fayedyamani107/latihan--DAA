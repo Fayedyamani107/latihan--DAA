{
  "nbformat": 4,
  "nbformat_minor": 0,
  "metadata": {
    "colab": {
      "provenance": [],
      "authorship_tag": "ABX9TyPztIoovsmP69WmRQYeB5Ik",
      "include_colab_link": true
    },
    "kernelspec": {
      "name": "python3",
      "display_name": "Python 3"
    },
    "language_info": {
      "name": "python"
    }
  },
  "cells": [
    {
      "cell_type": "markdown",
      "metadata": {
        "id": "view-in-github",
        "colab_type": "text"
      },
      "source": [
        "<a href=\"https://colab.research.google.com/github/Fayedyamani107/tlatihan-minggu-ke-3/blob/main/tugas_tatap_muka_minggu_3_DAA.ipynb\" target=\"_parent\"><img src=\"https://colab.research.google.com/assets/colab-badge.svg\" alt=\"Open In Colab\"/></a>"
      ]
    },
    {
      "cell_type": "code",
      "execution_count": 1,
      "metadata": {
        "colab": {
          "base_uri": "https://localhost:8080/"
        },
        "id": "hezp9nqyjlmn",
        "outputId": "cfc64aa1-410b-41ad-c8ca-c190bcd0110b"
      },
      "outputs": [
        {
          "output_type": "stream",
          "name": "stdout",
          "text": [
            "['Jirou motohashi', 2016081010, 'Sistem Informasi', 'DAA', '16-09-2023', 'Universitas Pembangunan Jaya']\n"
          ]
        }
      ],
      "source": [
        "import datetime\n",
        "tanggal_hari_ini = datetime.date.today()\n",
        "aMahasiswa = [\"Jirou motohashi\", 2016081010, \"Sistem Informasi\", \"DAA\", tanggal_hari_ini.strftime(\"%d-%m-%Y\"), \"Universitas Pembangunan Jaya\"]\n",
        "print(aMahasiswa);"
      ]
    },
    {
      "cell_type": "code",
      "source": [
        "bin_mahasiswa = [('Jirou motohashi', 2016081010), (\"Fayed yamani\", 2022071017), (\"Karina Dwi Hartanti\", 2022041070), (\"Audi nabila.s\", 2022041071)]\n",
        "print(bin_mahasiswa[0]);"
      ],
      "metadata": {
        "colab": {
          "base_uri": "https://localhost:8080/"
        },
        "id": "JF-5ZcRtnf3c",
        "outputId": "276357f0-f1f1-490a-91b9-a6250468a880"
      },
      "execution_count": 4,
      "outputs": [
        {
          "output_type": "stream",
          "name": "stdout",
          "text": [
            "('Jirou motohashi', 2016081010)\n"
          ]
        }
      ]
    },
    {
      "cell_type": "code",
      "source": [
        "bin_universitas = [\"UPJ\", \"UIN\", \"UNKRIS\", \"UI\"]\n",
        "print(bin_universitas[0]);"
      ],
      "metadata": {
        "colab": {
          "base_uri": "https://localhost:8080/"
        },
        "id": "1VAJETmYodwe",
        "outputId": "e0ced65b-3ae0-4a39-f9ec-546855c30583"
      },
      "execution_count": 6,
      "outputs": [
        {
          "output_type": "stream",
          "name": "stdout",
          "text": [
            "UPJ\n"
          ]
        }
      ]
    },
    {
      "cell_type": "code",
      "source": [
        "bin_universitas = [\"UPJ\", \"UIN\", \"UNKRIS\", \"UI\"]\n",
        "print(bin_universitas[0:4]);"
      ],
      "metadata": {
        "colab": {
          "base_uri": "https://localhost:8080/"
        },
        "id": "t3u-adzLpd8K",
        "outputId": "765868ad-ab4b-4630-b96e-555c832c5d6e"
      },
      "execution_count": 8,
      "outputs": [
        {
          "output_type": "stream",
          "name": "stdout",
          "text": [
            "['UPJ', 'UIN', 'UNKRIS', 'UI']\n"
          ]
        }
      ]
    },
    {
      "cell_type": "code",
      "source": [
        "bin_mahasiswa = [\"Jirou Motohashi\", \"2016081010\", \"Sistem Informasi\", \"DAA\", \"UPJ\"]\n",
        "for aMahasiswa in bin_mahasiswa:\n",
        "    print(aMahasiswa + \" Square\")"
      ],
      "metadata": {
        "colab": {
          "base_uri": "https://localhost:8080/"
        },
        "id": "T4xuaRTlpl8E",
        "outputId": "7e967f20-ff39-485a-a413-2d494993d0ed"
      },
      "execution_count": 12,
      "outputs": [
        {
          "output_type": "stream",
          "name": "stdout",
          "text": [
            "Jirou Motohashi Square\n",
            "2016081010 Square\n",
            "Sistem Informasi Square\n",
            "DAA Square\n",
            "UPJ Square\n"
          ]
        }
      ]
    },
    {
      "cell_type": "code",
      "source": [
        "bin_mahasiswa = [\"Jirou Motohashi\", \"2016081010\", \"Sistem Informasi\", \"DAA\", \"UPJ\"]\n",
        "for aMahasiswa in bin_mahasiswa:\n",
        "    print(aMahasiswa + \" Square\")"
      ],
      "metadata": {
        "colab": {
          "base_uri": "https://localhost:8080/"
        },
        "id": "FsP8V539p5Zm",
        "outputId": "8e0ef260-1b1c-4e52-c912-7aadec736021"
      },
      "execution_count": 14,
      "outputs": [
        {
          "output_type": "stream",
          "name": "stdout",
          "text": [
            "Jirou Motohashi Square\n",
            "2016081010 Square\n",
            "Sistem Informasi Square\n",
            "DAA Square\n",
            "UPJ Square\n"
          ]
        }
      ]
    },
    {
      "cell_type": "code",
      "source": [
        "tanggal_hari_ini = datetime.date.today()\n",
        "bin_mahasiswa = [\"Jirou Motohashi\", \"2016081010\", \"Sistem Informasi\", \"DAA\", tanggal_hari_ini.strftime(\"%d-%m-%Y\"), \"UPJ\"]\n",
        "for aMahasiswa in bin_mahasiswa:\n",
        "    print(aMahasiswa + \" Square\")"
      ],
      "metadata": {
        "colab": {
          "base_uri": "https://localhost:8080/"
        },
        "id": "8cDwq1PlqeTd",
        "outputId": "927b67d9-b71d-49fa-f884-95ee80307cbc"
      },
      "execution_count": 16,
      "outputs": [
        {
          "output_type": "stream",
          "name": "stdout",
          "text": [
            "Jirou Motohashi Square\n",
            "2016081010 Square\n",
            "Sistem Informasi Square\n",
            "DAA Square\n",
            "16-09-2023 Square\n",
            "UPJ Square\n"
          ]
        }
      ]
    },
    {
      "cell_type": "markdown",
      "source": [
        "Tuples"
      ],
      "metadata": {
        "id": "MUAtuvkrrcqE"
      }
    },
    {
      "cell_type": "code",
      "source": [
        "bin_upj = (\"Universitas\", \"Pembangunan\", \"Jaya\")\n",
        "print(bin_upj[2]);\n",
        "print(bin_upj[0:]);"
      ],
      "metadata": {
        "colab": {
          "base_uri": "https://localhost:8080/"
        },
        "id": "gq1MQS4hrFJg",
        "outputId": "3c333afe-d273-4622-e9ab-430189a050f1"
      },
      "execution_count": 18,
      "outputs": [
        {
          "output_type": "stream",
          "name": "stdout",
          "text": [
            "Jaya\n",
            "('Universitas', 'Pembangunan', 'Jaya')\n"
          ]
        }
      ]
    },
    {
      "cell_type": "code",
      "source": [
        "weekdays = (\"Senin, Selasa, Rabu, Kamis, Jumat\")\n",
        "weekends = (\"Sabtu, Minggu\")"
      ],
      "metadata": {
        "id": "MHdKouejrwrP"
      },
      "execution_count": 19,
      "outputs": []
    },
    {
      "cell_type": "code",
      "source": [
        "hari = (weekdays, weekends)\n",
        "print(hari)"
      ],
      "metadata": {
        "colab": {
          "base_uri": "https://localhost:8080/"
        },
        "id": "mfvo5clXr5EX",
        "outputId": "69cd82ff-ad47-4ae7-a7b5-219d3d51f67f"
      },
      "execution_count": 20,
      "outputs": [
        {
          "output_type": "stream",
          "name": "stdout",
          "text": [
            "('Senin, Selasa, Rabu, Kamis, Jumat', 'Sabtu, Minggu')\n"
          ]
        }
      ]
    },
    {
      "cell_type": "code",
      "source": [
        "Pertama = \"100\"\n",
        "Kedua = \"200, 400, 600\"\n",
        "Ketiga = \"300\"\n",
        "Keempat = \"400, 600\"\n",
        "\n",
        "result = (Pertama, Kedua, Ketiga, Keempat)\n",
        "print(result)\n"
      ],
      "metadata": {
        "colab": {
          "base_uri": "https://localhost:8080/"
        },
        "id": "x1MmUhiZsBKf",
        "outputId": "9faacb3f-d2e7-435d-9ca5-05c9bc861eea"
      },
      "execution_count": 24,
      "outputs": [
        {
          "output_type": "stream",
          "name": "stdout",
          "text": [
            "('100', '200, 400, 600', '300', '400, 600')\n"
          ]
        }
      ]
    },
    {
      "cell_type": "code",
      "source": [
        "acak = (True, {\"Nama\" : \"Jirou Motohashi\", \"Status\" : \"Alumni\"}, [1,2,3])\n",
        "print(acak)"
      ],
      "metadata": {
        "colab": {
          "base_uri": "https://localhost:8080/"
        },
        "id": "cNsPRKquttW8",
        "outputId": "42afae06-81c1-445f-9132-1f95de1c8140"
      },
      "execution_count": 25,
      "outputs": [
        {
          "output_type": "stream",
          "name": "stdout",
          "text": [
            "(True, {'Nama': 'Jirou Motohashi', 'Status': 'Alumni'}, [1, 2, 3])\n"
          ]
        }
      ]
    },
    {
      "cell_type": "markdown",
      "source": [
        "Dictionary"
      ],
      "metadata": {
        "id": "DEzNrHgWu8Tt"
      }
    },
    {
      "cell_type": "code",
      "source": [
        "bin_mahasiswa = {\"Nama Mahasiswa\" : \"Jirou Motohashi\", \"Nim\" : \"2016081010\", \"Prodi\" : \"Sistem Informasi\", \"Universitas\" : \"UPJ\"}\n",
        "print(bin_mahasiswa)"
      ],
      "metadata": {
        "colab": {
          "base_uri": "https://localhost:8080/"
        },
        "id": "6nF5pGsPux-2",
        "outputId": "a52106a2-b33f-48ee-f533-36fdbae53ab8"
      },
      "execution_count": 28,
      "outputs": [
        {
          "output_type": "stream",
          "name": "stdout",
          "text": [
            "{'Nama Mahasiswa': 'Jirou Motohashi', 'Nim': '2016081010', 'Prodi': 'Sistem Informasi', 'Universitas': 'UPJ'}\n"
          ]
        }
      ]
    },
    {
      "cell_type": "code",
      "source": [
        "bin_mahasiswa = {\"Nama Mahasiswa\" : \"Jirou Motohashi\", \"Nim\" : \"2016081010\", \"Prodi\" : \"Sistem Informasia\", \"Universitas\" : \"UPJ\"}\n",
        "print(bin_mahasiswa)\n",
        "\n",
        "print(bin_mahasiswa.get('Nama Mahasiswa'))"
      ],
      "metadata": {
        "colab": {
          "base_uri": "https://localhost:8080/"
        },
        "id": "PFx8QiiOvUKm",
        "outputId": "6008b23e-ba25-4aed-c2e4-220b64d32c8d"
      },
      "execution_count": 32,
      "outputs": [
        {
          "output_type": "stream",
          "name": "stdout",
          "text": [
            "{'Nama Mahasiswa': 'Jirou Motohashi', 'Nim': '2016081010', 'Prodi': 'Sistem Informasia', 'Universitas': 'UPJ'}\n",
            "Jirou Motohashi\n"
          ]
        }
      ]
    },
    {
      "cell_type": "code",
      "source": [
        "bin_mahasiswa = {\"Nama Mahasiswa\" : \"Jirou Motohashi\", \"Nim\" : \"2016081010\", \"Prodi\" : \"Sistem Informasi\", \"Universitas\" : \"UPJ\"}\n",
        "print(bin_mahasiswa)\n",
        "\n",
        "bin_mahasiswa['Nama Mahasiswa']= \"Fayed yamani\"\n",
        "print(bin_mahasiswa)"
      ],
      "metadata": {
        "colab": {
          "base_uri": "https://localhost:8080/"
        },
        "id": "BoPzIqFjwPHD",
        "outputId": "e7e2a22b-65ca-45c9-8b10-0c4203acb496"
      },
      "execution_count": 34,
      "outputs": [
        {
          "output_type": "stream",
          "name": "stdout",
          "text": [
            "{'Nama Mahasiswa': 'Jirou Motohashi', 'Nim': '2016081010', 'Prodi': 'Sistem Informasi', 'Universitas': 'UPJ'}\n",
            "{'Nama Mahasiswa': 'Fayed yamani', 'Nim': '2016081010', 'Prodi': 'Sistem Informasi', 'Universitas': 'UPJ'}\n"
          ]
        }
      ]
    },
    {
      "cell_type": "code",
      "source": [
        "mahasiswa = {\"Jirou\", \"Jirou\", \"UPJ\"}\n",
        "print(mahasiswa)"
      ],
      "metadata": {
        "colab": {
          "base_uri": "https://localhost:8080/"
        },
        "id": "w-IvB_iIzy9E",
        "outputId": "98025af6-ef93-4709-dbec-f7fe0ea4f7d5"
      },
      "execution_count": 36,
      "outputs": [
        {
          "output_type": "stream",
          "name": "stdout",
          "text": [
            "{'UPJ', 'Jirou'}\n"
          ]
        }
      ]
    },
    {
      "cell_type": "code",
      "source": [
        "set_01 = {4,5,6,2,1,3,7,9,10,8}\n",
        "print(set_01)\n"
      ],
      "metadata": {
        "colab": {
          "base_uri": "https://localhost:8080/"
        },
        "id": "z8GlgMGd0KAg",
        "outputId": "a57e41f8-3a29-4538-9f1b-142fc5c47cb0"
      },
      "execution_count": 38,
      "outputs": [
        {
          "output_type": "stream",
          "name": "stdout",
          "text": [
            "{1, 2, 3, 4, 5, 6, 7, 8, 9, 10}\n"
          ]
        }
      ]
    },
    {
      "cell_type": "code",
      "source": [
        "set_02 = set()\n",
        "set_03 = set([2,1,4,3,5,7,9,10,6,8])\n",
        "print(type(set_02))\n",
        "print(set_03)"
      ],
      "metadata": {
        "colab": {
          "base_uri": "https://localhost:8080/"
        },
        "id": "skd7bgJC1MJi",
        "outputId": "4f1717ce-faa1-4ed4-87dc-c9edb6c1cbc5"
      },
      "execution_count": 39,
      "outputs": [
        {
          "output_type": "stream",
          "name": "stdout",
          "text": [
            "<class 'set'>\n",
            "{1, 2, 3, 4, 5, 6, 7, 8, 9, 10}\n"
          ]
        }
      ]
    },
    {
      "cell_type": "code",
      "source": [
        "set_04 = {2,3,4,5,6}\n",
        "set_04.add(1)\n",
        "print(set_04)"
      ],
      "metadata": {
        "colab": {
          "base_uri": "https://localhost:8080/"
        },
        "id": "hcO0yV5j2CUn",
        "outputId": "6358d451-b479-481f-8e66-8be4e8c7ce41"
      },
      "execution_count": 40,
      "outputs": [
        {
          "output_type": "stream",
          "name": "stdout",
          "text": [
            "{1, 2, 3, 4, 5, 6}\n"
          ]
        }
      ]
    },
    {
      "cell_type": "code",
      "source": [
        "set_04= {1, 2, 3, 4, 5, 6, 7, 8}\n",
        "set_04.discard(4)#hapus nilai 4\n",
        "print(set_04)"
      ],
      "metadata": {
        "colab": {
          "base_uri": "https://localhost:8080/"
        },
        "id": "NbkaxVJT2Hev",
        "outputId": "c1288136-33f8-4324-ee0e-34ea964a98d2"
      },
      "execution_count": 41,
      "outputs": [
        {
          "output_type": "stream",
          "name": "stdout",
          "text": [
            "{1, 2, 3, 5, 6, 7, 8}\n"
          ]
        }
      ]
    },
    {
      "cell_type": "code",
      "source": [
        "set_04.add(10) #menambahkan nilai 10\n",
        "print(set_04)\n"
      ],
      "metadata": {
        "colab": {
          "base_uri": "https://localhost:8080/"
        },
        "id": "MCL1Xdtq2N4k",
        "outputId": "84ae18fa-bf2e-44eb-e554-c9441ab96630"
      },
      "execution_count": 43,
      "outputs": [
        {
          "output_type": "stream",
          "name": "stdout",
          "text": [
            "{1, 2, 3, 5, 6, 7, 8, 10}\n"
          ]
        }
      ]
    },
    {
      "cell_type": "code",
      "source": [
        "set_04.add(10) #menambahkan nilai 10\n",
        "print(set_04)"
      ],
      "metadata": {
        "colab": {
          "base_uri": "https://localhost:8080/"
        },
        "id": "Fs0GKqi32PlK",
        "outputId": "e969cbf9-25b0-4ada-8701-e216013046a2"
      },
      "execution_count": 44,
      "outputs": [
        {
          "output_type": "stream",
          "name": "stdout",
          "text": [
            "{1, 2, 3, 5, 6, 7, 8, 10}\n"
          ]
        }
      ]
    },
    {
      "cell_type": "code",
      "source": [
        "set_A = {1,2,3,4}\n",
        "set_B = {3,4,5,6}\n",
        "print(set_A|set_B)\n",
        "print(set_A.union(set_B))"
      ],
      "metadata": {
        "colab": {
          "base_uri": "https://localhost:8080/"
        },
        "id": "w_CQcx752XMQ",
        "outputId": "f3da268b-3519-40a6-b2d1-1dbb5576f408"
      },
      "execution_count": 45,
      "outputs": [
        {
          "output_type": "stream",
          "name": "stdout",
          "text": [
            "{1, 2, 3, 4, 5, 6}\n",
            "{1, 2, 3, 4, 5, 6}\n"
          ]
        }
      ]
    },
    {
      "cell_type": "code",
      "source": [
        "set_A = {1,2,3,4}\n",
        "set_B = {3,4,5,6}\n",
        "print(set_A & set_B)\n",
        "print(set_A.intersection(set_B))"
      ],
      "metadata": {
        "id": "0U74PTi82aYY"
      },
      "execution_count": null,
      "outputs": []
    }
  ]
}