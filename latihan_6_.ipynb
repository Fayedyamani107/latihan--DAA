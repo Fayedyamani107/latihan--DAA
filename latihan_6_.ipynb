{
  "nbformat": 4,
  "nbformat_minor": 0,
  "metadata": {
    "colab": {
      "provenance": [],
      "authorship_tag": "ABX9TyO33Fwx+3PO3DuztZ+0x5DB",
      "include_colab_link": true
    },
    "kernelspec": {
      "name": "python3",
      "display_name": "Python 3"
    },
    "language_info": {
      "name": "python"
    }
  },
  "cells": [
    {
      "cell_type": "markdown",
      "metadata": {
        "id": "view-in-github",
        "colab_type": "text"
      },
      "source": [
        "<a href=\"https://colab.research.google.com/github/Fayedyamani107/latihan--DAA/blob/main/latihan_6_.ipynb\" target=\"_parent\"><img src=\"https://colab.research.google.com/assets/colab-badge.svg\" alt=\"Open In Colab\"/></a>"
      ]
    },
    {
      "cell_type": "code",
      "execution_count": null,
      "metadata": {
        "id": "ZG5Wpnjw9DLo",
        "colab": {
          "base_uri": "https://localhost:8080/"
        },
        "outputId": "802f7e20-00bd-4942-9491-288ee5acf945"
      },
      "outputs": [
        {
          "output_type": "stream",
          "name": "stdout",
          "text": [
            "How many terms?5\n",
            "Fibonacci sequence:\n",
            "0\n",
            "1\n",
            "1\n",
            "2\n",
            "3\n"
          ]
        }
      ],
      "source": [
        "nterms = int(input(\"How many terms?\"))\n",
        "n1, n2 = 0, 1\n",
        "count = 0\n",
        "\n",
        "# check if the number of terms is valid\n",
        "if nterms <= 0:\n",
        "    print(\"Please enter a positive integer\")\n",
        "elif nterms == 1:\n",
        "    print(\"Fibonacci sequence up to\", nterms, \":\")\n",
        "    print(n1)\n",
        "else:\n",
        "    print(\"Fibonacci sequence:\")\n",
        "    while count < nterms:\n",
        "        print(n1)\n",
        "        nth = n1 + n2\n",
        "        n1 = n2\n",
        "        n2 = nth\n",
        "        count += 1\n"
      ]
    },
    {
      "cell_type": "code",
      "source": [
        "#fibonacci with rekursion\n",
        "\n",
        "def recur_fibo(n):\n",
        "  if n <= 1:\n",
        "    return n\n",
        "  else:\n",
        "    return(recur_fibo(n-1) + recur_fibo(n-2))\n",
        "\n",
        "nterms = 30\n",
        "\n",
        "if nterms <= 0:\n",
        "  print(\"Please enter a positive integer\")\n",
        "else:\n",
        "  print(\"Fibonacci sequence:\")\n",
        "  for i in range(nterms):\n",
        "    print(recur_fibo(i))"
      ],
      "metadata": {
        "id": "r1aScEANAqZU",
        "colab": {
          "base_uri": "https://localhost:8080/"
        },
        "outputId": "3ce34226-7217-4087-816f-3a3ee3cbcdc4"
      },
      "execution_count": null,
      "outputs": [
        {
          "output_type": "stream",
          "name": "stdout",
          "text": [
            "Fibonacci sequence:\n",
            "0\n",
            "1\n",
            "1\n",
            "2\n",
            "3\n",
            "5\n",
            "8\n",
            "13\n",
            "21\n",
            "34\n",
            "55\n",
            "89\n",
            "144\n",
            "233\n",
            "377\n",
            "610\n",
            "987\n",
            "1597\n",
            "2584\n",
            "4181\n",
            "6765\n",
            "10946\n",
            "17711\n",
            "28657\n",
            "46368\n",
            "75025\n",
            "121393\n",
            "196418\n",
            "317811\n",
            "514229\n"
          ]
        }
      ]
    },
    {
      "cell_type": "code",
      "source": [
        "#fibonacci dengan rekursi\n",
        "\n",
        "def recur_fibo(n):\n",
        "  if n <=1:\n",
        "    return n\n",
        "  else:\n",
        "    return(recur_fibo(n-1)+recur_fibo(n-2))\n",
        "\n",
        "  nterms = 20\n",
        "\n",
        "  #cek apakah nilai nterms valid\n",
        "  if nterms <= 0:\n",
        "    print(\"Please enter a positive integer\")\n",
        "  else:\n",
        "    print(\"fibonacci sequence\")\n",
        "    for i in range(nterms):\n",
        "      print(recur_fibo(i))"
      ],
      "metadata": {
        "id": "EEnfVvmZsplr"
      },
      "execution_count": null,
      "outputs": []
    },
    {
      "cell_type": "code",
      "source": [
        "import matplotlib\n",
        "import matplotlib.pyplot as plt\n",
        "import random\n",
        "import time\n",
        "import itertools"
      ],
      "metadata": {
        "id": "3Y-97YHh1jS2"
      },
      "execution_count": null,
      "outputs": []
    },
    {
      "cell_type": "code",
      "source": [
        "#try all tours (exact_TSP)\n",
        "def exact_TSP(cities):\n",
        "  \"generate all posible tours of the cities and choose the shortest one.\"\n",
        "  return shortest(alltours(cities))\n",
        "\n",
        "def shortest(tours):\n",
        "  \"return the tout eith the minimum total distance\"\n",
        "  return min(tours, key=total_distance)"
      ],
      "metadata": {
        "id": "lLERzZfzQujG"
      },
      "execution_count": null,
      "outputs": []
    },
    {
      "cell_type": "code",
      "source": [
        "#representing tours\n",
        "alltours=itertools.permutations # the permutation function is already defined i the itertools module\n",
        "\n",
        "cities = {1, 2, 3}\n",
        "\n",
        "list(alltours(cities))"
      ],
      "metadata": {
        "colab": {
          "base_uri": "https://localhost:8080/"
        },
        "id": "-AHeZ7HJswqi",
        "outputId": "01f5d56b-9531-4f35-a32e-98c8d1dc284b"
      },
      "execution_count": null,
      "outputs": [
        {
          "output_type": "execute_result",
          "data": {
            "text/plain": [
              "[(1, 2, 3), (1, 3, 2), (2, 1, 3), (2, 3, 1), (3, 1, 2), (3, 2, 1)]"
            ]
          },
          "metadata": {},
          "execution_count": 74
        }
      ]
    },
    {
      "cell_type": "code",
      "source": [
        "alltours({1,2,3,4})"
      ],
      "metadata": {
        "colab": {
          "base_uri": "https://localhost:8080/"
        },
        "id": "Wi9rjCRVuGKC",
        "outputId": "8f9fabf4-e8e5-4548-9df0-bc1c597df887"
      },
      "execution_count": null,
      "outputs": [
        {
          "output_type": "execute_result",
          "data": {
            "text/plain": [
              "[[1, 2, 3, 4],\n",
              " [1, 2, 4, 3],\n",
              " [1, 3, 2, 4],\n",
              " [1, 3, 4, 2],\n",
              " [1, 4, 2, 3],\n",
              " [1, 4, 3, 2]]"
            ]
          },
          "metadata": {},
          "execution_count": 93
        }
      ]
    },
    {
      "cell_type": "code",
      "source": [
        "#representing cities and distance\n",
        "def total_distance(tour):\n",
        "\n",
        "  \"the total distance between each pair of consecutive cities in the tour\"\n",
        "  return sum(distance(tour[i], tour[i-1]) for i in range(len(tour)))"
      ],
      "metadata": {
        "id": "4hs43Fdvs6KC"
      },
      "execution_count": null,
      "outputs": []
    },
    {
      "cell_type": "code",
      "source": [
        "City = complex #constructor for new cities , e.g. City(300, 400)\n",
        "\n",
        "def distance (A, B):\n",
        "  \"the distance between two points.\"\n",
        "  return abs(A-B)\n",
        "\n",
        "\n",
        "A=City(300, 0)\n",
        "B=City(0, 400)\n",
        "distance(A, B)"
      ],
      "metadata": {
        "id": "G2cY0GgaDsSo",
        "colab": {
          "base_uri": "https://localhost:8080/"
        },
        "outputId": "33c194c2-9fdb-4bb5-bedf-df2b52981b51"
      },
      "execution_count": null,
      "outputs": [
        {
          "output_type": "execute_result",
          "data": {
            "text/plain": [
              "500.0"
            ]
          },
          "metadata": {},
          "execution_count": 83
        }
      ]
    },
    {
      "cell_type": "code",
      "source": [
        "def Cities(n):\n",
        "  \"make a set of n cities, each with random coordinates\"\n",
        "  return set(City(random.randrange(10, 890), random.randrange(10, 590))for c in range(n))\n",
        "\n",
        "#lets make some standard sets of cities of various sizes.\n",
        "#we'll set the random seed so that these sets are the same every time we run this notebook.\n",
        "random.seed('seed')\n",
        "cities8, cities10, cities100, cities1000 = Cities(8), Cities(10), Cities(100), Cities(1000)\n",
        "cities8"
      ],
      "metadata": {
        "id": "-tLdh520VgQM",
        "colab": {
          "base_uri": "https://localhost:8080/"
        },
        "outputId": "2f0dccb0-afbc-40ba-84c7-1604fa3b22f6"
      },
      "execution_count": null,
      "outputs": [
        {
          "output_type": "execute_result",
          "data": {
            "text/plain": [
              "{(151+70j),\n",
              " (252+365j),\n",
              " (303+506j),\n",
              " (498+96j),\n",
              " (54+361j),\n",
              " (551+542j),\n",
              " (684+435j),\n",
              " (800+430j)}"
            ]
          },
          "metadata": {},
          "execution_count": 84
        }
      ]
    },
    {
      "cell_type": "code",
      "source": [
        "tour = exact_TSP(cities8)\n",
        "\n",
        "print(tour)\n",
        "print(total_distance(tour))"
      ],
      "metadata": {
        "colab": {
          "base_uri": "https://localhost:8080/"
        },
        "id": "wmGRxRg0tiPS",
        "outputId": "23830eda-0d97-4e8d-9a15-f360cf3d46c3"
      },
      "execution_count": null,
      "outputs": [
        {
          "output_type": "stream",
          "name": "stdout",
          "text": [
            "((551+542j), (303+506j), (252+365j), (54+361j), (151+70j), (498+96j), (800+430j), (684+435j))\n",
            "1990.388372313552\n"
          ]
        }
      ]
    },
    {
      "cell_type": "code",
      "source": [
        "#try all non-redunant tours\n",
        "def alltours(cities):\n",
        "  \"return a list of tours, each a permutation of cities, but  each one starting with the same city\"\n",
        "  start=first(cities)\n",
        "  return [[start]+list(tour)\n",
        "    for tour in itertools.permutations(cities-{start})]\n",
        "\n",
        "def first(collection):\n",
        "  \"start iteraating over collection, and return the first element\"\n",
        "  for x in collection: return x\n",
        "\n",
        "alltours({1, 2, 3})\n",
        "alltours({1, 2, 3, 4})\n",
        "tour = exact_TSP(cities8)\n",
        "\n",
        "print(tour)\n",
        "print(total_distance(tour))"
      ],
      "metadata": {
        "colab": {
          "base_uri": "https://localhost:8080/"
        },
        "id": "BCfY1IsWtn_J",
        "outputId": "69789d14-be3f-4e86-a07d-157888b38b5e"
      },
      "execution_count": null,
      "outputs": [
        {
          "output_type": "stream",
          "name": "stdout",
          "text": [
            "[(551+542j), (303+506j), (252+365j), (54+361j), (151+70j), (498+96j), (800+430j), (684+435j)]\n",
            "1990.388372313552\n"
          ]
        }
      ]
    },
    {
      "cell_type": "code",
      "source": [
        "from re import A\n",
        "#greedy algorithm\n",
        "\n",
        "def greedy_algorithm(cities, start=None):\n",
        "  C = start or first(cities)\n",
        "  tour = [C]\n",
        "  unvisited = set(cities - {C})\n",
        "  while unvisited:\n",
        "    C = nearest_neighbor(C_unvisited)\n",
        "    tour.append(C)\n",
        "    unvisited.remove(C)\n",
        "    return tour\n",
        "    def first(collection): return next(iter(collection))\n",
        "    def nearest_neighbor(A,cities):\n",
        "      return min(cities, key=lambda C: distence_points(C,A))"
      ],
      "metadata": {
        "id": "8F8ZqFvjB7_7"
      },
      "execution_count": null,
      "outputs": []
    },
    {
      "cell_type": "code",
      "source": [
        "import time\n",
        "def plot_tour(algorithm, cities):\n",
        "    \"Apply a TSP algorithm to cities, and plot the resulting tour.\"\n",
        "\n",
        "    t0 = time.time()\n",
        "    tour = algorithm(cities)\n",
        "    t1 = time.time()\n",
        "\n",
        "    plotline(list(tour) + [tour[0]])\n",
        "    plotline([tour[0]], 'rs')\n",
        "    plt.show()\n",
        "    print(\"{} city tour; total distance = {:.1f}; time = {:.3f} secs for {}\".format(\n",
        "        len(tour), total_distance(tour), t1-t0, algorithm.__name__))\n",
        "\n",
        "def plotline(points, style='bo-'):\n",
        "    \"Plot a list of points (complex numbers) in the 2-D plane.\"\n",
        "    X, Y = XY(points)\n",
        "    plt.plot(X, Y, style)\n",
        "\n",
        "def XY(points):\n",
        "    \"Given a list of points, return two lists: X coordinates, and Y coordinates.\"\n",
        "    return [p.real for p in points], [p.imag for p in points]\n",
        "\n",
        "plot_tour(exact_TSP, cities8)"
      ],
      "metadata": {
        "id": "75MHeDJmai_K",
        "colab": {
          "base_uri": "https://localhost:8080/",
          "height": 447
        },
        "outputId": "4896b67c-37e6-4144-d13b-d4212067bb0a"
      },
      "execution_count": null,
      "outputs": [
        {
          "output_type": "display_data",
          "data": {
            "text/plain": [
              "<Figure size 640x480 with 1 Axes>"
            ],
            "image/png": "[encoded data removed]"
          },
          "metadata": {}
        },
        {
          "output_type": "stream",
          "name": "stdout",
          "text": [
            "8 city tour; total distance = 1990.4; time = 0.026 secs for exact_TSP\n"
          ]
        }
      ]
    },
    {
      "cell_type": "code",
      "source": [
        "plot_tour(exact_TSP, cities10)"
      ],
      "metadata": {
        "colab": {
          "base_uri": "https://localhost:8080/",
          "height": 447
        },
        "id": "QbS_RxP_lz2V",
        "outputId": "79e76b3c-b071-4458-d2b4-3475113be5fd"
      },
      "execution_count": null,
      "outputs": [
        {
          "output_type": "display_data",
          "data": {
            "text/plain": [
              "<Figure size 640x480 with 1 Axes>"
            ],
            "image/png": "[encoded data removed]"
          },
          "metadata": {}
        },
        {
          "output_type": "stream",
          "name": "stdout",
          "text": [
            "10 city tour; total distance = 2050.3; time = 1.840 secs for exact_TSP\n"
          ]
        }
      ]
    },
    {
      "cell_type": "code",
      "source": [
        "#greedy nearest neighbor\n",
        "\n",
        "def greedy_TSP(cities):\n",
        "  \"At each step, visit the nearest neighbor that is still unvisited.\"\n",
        "  start = first(cities)\n",
        "  tour = [start]\n",
        "  unvisited = cities - {start}\n",
        "  while unvisited:\n",
        "    C = nearest_neighbor(tour[-1], unvisited )\n",
        "    tour.append\n",
        "    unvisited.remove(C)\n",
        "    return tour\n",
        "\n",
        "def nearest_neighbor(A, cities):\n",
        "  \"Find the cities that iss nearest to city A.\"\n",
        "  return min(cities, key=lambda x: distance(x, A))"
      ],
      "metadata": {
        "id": "7wydlxm5nwZV"
      },
      "execution_count": null,
      "outputs": []
    },
    {
      "cell_type": "code",
      "source": [
        "cities = Cities(9)\n",
        "plot_tour(exact_TSP, cities)\n",
        "plot_tour(greedy_TSP, cities)"
      ],
      "metadata": {
        "colab": {
          "base_uri": "https://localhost:8080/",
          "height": 878
        },
        "id": "xwn_prw_wnZS",
        "outputId": "8dab9866-10e1-44fc-afc7-ad2e5ce0babb"
      },
      "execution_count": 149,
      "outputs": [
        {
          "output_type": "display_data",
          "data": {
            "text/plain": [
              "<Figure size 640x480 with 1 Axes>"
            ],
            "image/png": "[encoded data removed]"
          },
          "metadata": {}
        },
        {
          "output_type": "stream",
          "name": "stdout",
          "text": [
            "9 city tour; total distance = 1851.6; time = 0.171 secs for exact_TSP\n"
          ]
        },
        {
          "output_type": "display_data",
          "data": {
            "text/plain": [
              "<Figure size 640x480 with 1 Axes>"
            ],
            "image/png": "[encoded data removed]"
          },
          "metadata": {}
        },
        {
          "output_type": "stream",
          "name": "stdout",
          "text": [
            "1 city tour; total distance = 0.0; time = 0.000 secs for greedy_TSP\n"
          ]
        }
      ]
    },
    {
      "cell_type": "code",
      "source": [
        "plot_tour(greedy_TSP, cities100)\n",
        "plot_tour(greedy_TSP, cities1000)"
      ],
      "metadata": {
        "colab": {
          "base_uri": "https://localhost:8080/",
          "height": 878
        },
        "id": "UWuT1gTOy9eS",
        "outputId": "dac1a44e-6662-463b-f5a5-c82c451e5f86"
      },
      "execution_count": 150,
      "outputs": [
        {
          "output_type": "display_data",
          "data": {
            "text/plain": [
              "<Figure size 640x480 with 1 Axes>"
            ],
            "image/png": "[encoded data removed]"
          },
          "metadata": {}
        },
        {
          "output_type": "stream",
          "name": "stdout",
          "text": [
            "1 city tour; total distance = 0.0; time = 0.000 secs for greedy_TSP\n"
          ]
        },
        {
          "output_type": "display_data",
          "data": {
            "text/plain": [
              "<Figure size 640x480 with 1 Axes>"
            ],
            "image/png": "[encoded data removed]"
          },
          "metadata": {}
        },
        {
          "output_type": "stream",
          "name": "stdout",
          "text": [
            "1 city tour; total distance = 0.0; time = 0.000 secs for greedy_TSP\n"
          ]
        }
      ]
    },
    {
      "cell_type": "code",
      "source": [
        "string = 'BCAADDCCACACAC'\n",
        "\n",
        "#CREATING tree nodes\n",
        "class NodeTree(object):\n",
        "\n",
        "  def __init__(self, left=None, right=None):\n",
        "    self,left = left\n",
        "    self,right = right\n",
        "\n",
        "  def children(self):\n",
        "    return (self. left, self.right)\n",
        "\n",
        "  def nodes(self):\n",
        "    return (self.left, self.right)\n",
        "\n",
        "  def __str__(self):\n",
        "    return '%s_%s' % (self.left, self.right)\n"
      ],
      "metadata": {
        "id": "9gT7cy6sdwKB"
      },
      "execution_count": null,
      "outputs": []
    },
    {
      "cell_type": "code",
      "source": [
        "import itertools\n",
        "\n",
        "def exact_TSP(cities):\n",
        "\n",
        "    all_permutations = itertools.permutations(cities)\n",
        "\n",
        "    best_tour = None\n",
        "    best_distance = float('inf')\n",
        "\n",
        "    for tour in all_permutations:\n",
        "\n",
        "        tour_distance = total_distance(tour)\n",
        "\n",
        "\n",
        "        if tour_distance < best_distance:\n",
        "            best_tour = tour\n",
        "            best_distance = tour_distance\n",
        "\n",
        "    return best_tour\n",
        "\n",
        "tour = exact_TSP(cities8)\n",
        "\n",
        "print(\"Optimal Tour:\", tour)\n",
        "print(\"Total Distance:\", total_distance(tour))\n"
      ],
      "metadata": {
        "id": "xY00u--ZXofr"
      },
      "execution_count": null,
      "outputs": []
    },
    {
      "cell_type": "code",
      "source": [
        "%matplotlib inline\n",
        "import matplotlib.pyplot as plt\n",
        "\n",
        "def visualize_tour(tour, style='bo'):\n",
        "  if len(tour) > 1000: plt.figure(figsize=(15, 10))\n",
        "  start = tour [0:1]\n",
        "  visualize_segment(tour + start, style)\n",
        "  visualize_segment(start, 'rD')\n",
        "def visualize_segment(segment, style='bo-'):\n",
        "  plt.plot([x(c) for c in segment], [Y(c) for c in segment], style, clip_on=False)\n",
        "  plt.axis('scaled')\n",
        "  plt.axis('off')\n",
        "\n",
        "def X(city): \"X axis\"; return city.real\n",
        "def Y(city): \"Y axis\"; return city.imag"
      ],
      "metadata": {
        "id": "Y-CONsUoMseu"
      },
      "execution_count": null,
      "outputs": []
    },
    {
      "cell_type": "code",
      "source": [
        "from time import process_time\n",
        "from collections import Counter\n",
        "def tsp(algorithm, cities):\n",
        "  t0 = process_time\n",
        "  tour = algorithm(cities)\n",
        "  t1 = process_time()\n",
        "  assert Counter(tour) == Counter(cities)\n",
        "  visualize_tour(tour)\n",
        "  print(\"{}:{} citiez => tour length {:.of}(in{:.3f}sec)\".format(name(algorithm), len(tour), distance_tour(tour), t1-t0))\n",
        "\n",
        "def name(algorithm): return algorithm._name_.replace('_tsp','')"
      ],
      "metadata": {
        "id": "ClyNkquHQhg7"
      },
      "execution_count": null,
      "outputs": []
    },
    {
      "cell_type": "code",
      "source": [
        "def greedy_algorithm(cities, start=None):\n",
        "  C = start or first(cities)\n",
        "  tour = [C]\n",
        "  unvisited = set(cities -{C})\n",
        "  while unvisited:\n",
        "    C = nearest_neighbor(C, unvisited)\n",
        "    tour.append(C)\n",
        "    unvisited.remove(C)\n",
        "  return tour\n",
        "\n",
        "def first(collection): return next(iter(collection))\n",
        "def nearest_neighbor(A, cities):\n",
        "  return min (cities, key=lambda C: distence_points(C,A))"
      ],
      "metadata": {
        "id": "ceLKeAtZUy23"
      },
      "execution_count": null,
      "outputs": []
    },
    {
      "cell_type": "code",
      "source": [
        "#main function implementing huffman coding\n",
        "\n",
        "def huffman_code_tree(node, left=True, binStrin=''):\n",
        "  if type(node) is str:\n",
        "    return {node : binString}\n",
        "  (l, r) = node.children()\n",
        "  d = dict()\n",
        "  d.update(huffman_code_tree(1, True, binSstring + '0'))\n",
        "  d.update(huffman_code_tree(1, False, binString + '1'))\n",
        "  return d"
      ],
      "metadata": {
        "id": "z3e2mGZBpMX0"
      },
      "execution_count": null,
      "outputs": []
    },
    {
      "cell_type": "code",
      "source": [
        "#calculating frequency\n",
        "freq ={}\n",
        "for c in string:\n",
        "  if c in freq:\n",
        "    freq[c] += 1\n",
        "  else:\n",
        "    freq[c] = 1\n",
        "\n",
        "freq = sorted(freq.items(), key=lambda x: x[1], reverse=True)\n",
        "\n",
        "nodes = freq\n",
        "while len(nodes) > 1:\n",
        "  (key, c1) = nodes[-1]\n",
        "  (key, c2) = nodes[-2]\n",
        "  nodes = nodes[:-2]\n",
        "  node = NodeTree(key1, key2)\n",
        "  nodes.append((node, c1 + c2))\n",
        "\n",
        "  nodes = sorted(nodes, key=lambda x: x[1], reverse=True)\n",
        "\n",
        "huffmanCode = huffman_code_tree(nodes[0][0])\n",
        "\n",
        "print(' Char | Huffman code ')\n",
        "print('----------------------')\n",
        "for (char, frequecy) in freq:\n",
        "  print(' %-4r |%12s' %(char, huffmanCode[char]))"
      ],
      "metadata": {
        "id": "_qGfPOsNt5cW"
      },
      "execution_count": null,
      "outputs": []
    }
  ]
}