{
  "nbformat": 4,
  "nbformat_minor": 0,
  "metadata": {
    "colab": {
      "provenance": [],
      "authorship_tag": "ABX9TyM+gNM0BSo+6/A1V8QZTtP8",
      "include_colab_link": true
    },
    "kernelspec": {
      "name": "python3",
      "display_name": "Python 3"
    },
    "language_info": {
      "name": "python"
    }
  },
  "cells": [
    {
      "cell_type": "markdown",
      "metadata": {
        "id": "view-in-github",
        "colab_type": "text"
      },
      "source": [
        "<a href=\"https://colab.research.google.com/github/Fayedyamani107/latihan--DAA/blob/main/latihan_6_.ipynb\" target=\"_parent\"><img src=\"https://colab.research.google.com/assets/colab-badge.svg\" alt=\"Open In Colab\"/></a>"
      ]
    },
    {
      "cell_type": "code",
      "execution_count": 3,
      "metadata": {
        "colab": {
          "base_uri": "https://localhost:8080/"
        },
        "id": "ZG5Wpnjw9DLo",
        "outputId": "465efc9a-8347-4e7f-8ce5-336f6935ffbe"
      },
      "outputs": [
        {
          "output_type": "stream",
          "name": "stdout",
          "text": [
            "How many terms?20\n",
            "Fibonacci sequence:\n",
            "0\n",
            "1\n",
            "1\n",
            "2\n",
            "3\n",
            "5\n",
            "8\n",
            "13\n",
            "21\n",
            "34\n",
            "55\n",
            "89\n",
            "144\n",
            "233\n",
            "377\n",
            "610\n",
            "987\n",
            "1597\n",
            "2584\n",
            "4181\n"
          ]
        }
      ],
      "source": [
        "# first two terms\n",
        "nterms = int (input(\"How many terms?\"))\n",
        "n1, n2 = 0, 1\n",
        "count = 0\n",
        "\n",
        "#check if the number of terms is valid\n",
        "if nterms <= 0:\n",
        "  print(\"please enter a positive integer\")\n",
        "elif nterms == 1:\n",
        "  print(\"Fibonacci sequence upto\", nterms, \":\")\n",
        "  print(\"n1\")\n",
        "else:\n",
        "  print(\"Fibonacci sequence:\")\n",
        "  while count < nterms:\n",
        "    print(n1)\n",
        "    nth = n1 + n2\n",
        "    n1 = n2\n",
        "    n2 = nth\n",
        "    count += 1"
      ]
    },
    {
      "cell_type": "code",
      "source": [
        "#fibonacci with rekursion\n",
        "\n",
        "def recur_fibo(n):\n",
        "  if n <= 1:\n",
        "    return n\n",
        "  else:\n",
        "    return(recur_fibo(n-1) + recur_fibo(n-2))\n",
        "\n",
        "nterms = 30\n",
        "\n",
        "if nterms <= 0:\n",
        "  print(\"Please enter a positive integer\")\n",
        "else:\n",
        "  print(\"Fibonacci sequence:\")\n",
        "  for i in range(nterms):\n",
        "    print(recur_fibo(i))"
      ],
      "metadata": {
        "colab": {
          "base_uri": "https://localhost:8080/"
        },
        "id": "r1aScEANAqZU",
        "outputId": "76a1fd64-506e-4b86-8950-f58281923757"
      },
      "execution_count": 8,
      "outputs": [
        {
          "output_type": "stream",
          "name": "stdout",
          "text": [
            "Fibonacci sequence:\n",
            "0\n",
            "1\n",
            "1\n",
            "2\n",
            "3\n",
            "5\n",
            "8\n",
            "13\n",
            "21\n",
            "34\n",
            "55\n",
            "89\n",
            "144\n",
            "233\n",
            "377\n",
            "610\n",
            "987\n",
            "1597\n",
            "2584\n",
            "4181\n",
            "6765\n",
            "10946\n",
            "17711\n",
            "28657\n",
            "46368\n",
            "75025\n",
            "121393\n",
            "196418\n",
            "317811\n",
            "514229\n"
          ]
        }
      ]
    },
    {
      "cell_type": "code",
      "source": [
        "from re import A\n",
        "#greedy algorithm\n",
        "\n",
        "def greedy_algorithm(cities, start=None):\n",
        "  C = start or first(cities)\n",
        "  tour = [C]\n",
        "  unvisited = set(cities - {C})\n",
        "  while unvisited:\n",
        "    C = nearest_neighbor(C_unvisited)\n",
        "    tour.append(C)\n",
        "    unvisited.remove(C)\n",
        "    return tour\n",
        "    def first(collection): return next(iter(collection))\n",
        "    def nearest_neighbor(A,cities):\n",
        "      return min(cities, key=lambda C: distence_points(C,A))"
      ],
      "metadata": {
        "id": "8F8ZqFvjB7_7"
      },
      "execution_count": 13,
      "outputs": []
    },
    {
      "cell_type": "code",
      "source": [
        "from IPython.core.completer import itertools\n",
        "import random\n",
        "from itertools import permutations\n",
        "\n",
        "# Define a complex number for representing cities\n",
        "def generate_cities(number_of_cities):\n",
        "    seed = 111\n",
        "    width = 500\n",
        "    height = 300\n",
        "    random.seed((number_of_cities, seed))\n",
        "\n",
        "    cities = set()\n",
        "\n",
        "    for _ in range(number_of_cities):\n",
        "        city = complex(random.randint(1, width), random.randint(1, height))\n",
        "        cities.add(city)\n",
        "\n",
        "    return cities\n",
        "\n",
        "# Calculate the distance between two points (cities)\n",
        "def distance_point(first, second):\n",
        "    return abs(first - second)\n",
        "\n",
        "# Calculate the total distance of a tour\n",
        "def distance_tour(aTour):\n",
        "    total_distance = 0\n",
        "    for i in range(len(aTour)):\n",
        "        total_distance += distance_point(aTour[i - 1], aTour[i])\n",
        "    return total_distance\n",
        "\n",
        "# Generate all possible tours for a set of cities\n",
        "def all_tours(cities):\n",
        "    return permutations(cities)\n",
        "\n",
        "# Example usage:\n",
        "if __name__ == \"__main__\":\n",
        "    num_cities = 5  # You can change the number of cities as needed\n",
        "    cities = generate_cities(num_cities)\n",
        "    tours = all_tours(cities)\n",
        "    for tour in tours:\n",
        "        print(tour, distance_tour(tour))"
      ],
      "metadata": {
        "colab": {
          "base_uri": "https://localhost:8080/"
        },
        "id": "G2cY0GgaDsSo",
        "outputId": "f45b10e5-4252-48e7-a522-cae297a317d8"
      },
      "execution_count": 23,
      "outputs": [
        {
          "output_type": "stream",
          "name": "stdout",
          "text": [
            "((461+263j), (285+87j), (223+79j), (105+204j), (99+250j)) 891.9368153364366\n",
            "((461+263j), (285+87j), (223+79j), (99+250j), (105+204j)) 929.8885320096111\n",
            "((461+263j), (285+87j), (105+204j), (223+79j), (99+250j)) 1208.9440164902192\n",
            "((461+263j), (285+87j), (105+204j), (99+250j), (223+79j)) 1022.0342737315706\n",
            "((461+263j), (285+87j), (99+250j), (223+79j), (105+204j)) 1240.1986931247109\n",
            "((461+263j), (285+87j), (99+250j), (105+204j), (223+79j)) 1015.3372336928878\n",
            "((461+263j), (223+79j), (285+87j), (105+204j), (99+250j)) 986.6526697389096\n",
            "((461+263j), (223+79j), (285+87j), (99+250j), (105+204j)) 1017.9073463734014\n",
            "((461+263j), (223+79j), (105+204j), (285+87j), (99+250j)) 1296.9628308540093\n",
            "((461+263j), (223+79j), (105+204j), (99+250j), (285+87j)) 1015.3372336928878\n",
            "((461+263j), (223+79j), (99+250j), (285+87j), (105+204j)) 1334.914547527184\n",
            "((461+263j), (223+79j), (99+250j), (105+204j), (285+87j)) 1022.0342737315706\n",
            "((461+263j), (105+204j), (285+87j), (223+79j), (99+250j)) 1211.5141291707328\n",
            "((461+263j), (105+204j), (285+87j), (99+250j), (223+79j)) 1334.914547527184\n",
            "((461+263j), (105+204j), (223+79j), (285+87j), (99+250j)) 1204.8170891320501\n",
            "((461+263j), (105+204j), (223+79j), (99+250j), (285+87j)) 1240.1986931247109\n",
            "((461+263j), (105+204j), (99+250j), (285+87j), (223+79j)) 1017.9073463734014\n",
            "((461+263j), (105+204j), (99+250j), (223+79j), (285+87j)) 929.8885320096111\n",
            "((461+263j), (99+250j), (285+87j), (223+79j), (105+204j)) 1204.8170891320501\n",
            "((461+263j), (99+250j), (285+87j), (105+204j), (223+79j)) 1296.9628308540096\n",
            "((461+263j), (99+250j), (223+79j), (285+87j), (105+204j)) 1211.5141291707328\n",
            "((461+263j), (99+250j), (223+79j), (105+204j), (285+87j)) 1208.9440164902192\n",
            "((461+263j), (99+250j), (105+204j), (285+87j), (223+79j)) 986.6526697389096\n",
            "((461+263j), (99+250j), (105+204j), (223+79j), (285+87j)) 891.9368153364366\n",
            "((285+87j), (461+263j), (223+79j), (105+204j), (99+250j)) 1015.3372336928878\n",
            "((285+87j), (461+263j), (223+79j), (99+250j), (105+204j)) 1022.0342737315705\n",
            "((285+87j), (461+263j), (105+204j), (223+79j), (99+250j)) 1240.1986931247109\n",
            "((285+87j), (461+263j), (105+204j), (99+250j), (223+79j)) 929.8885320096111\n",
            "((285+87j), (461+263j), (99+250j), (223+79j), (105+204j)) 1208.9440164902192\n",
            "((285+87j), (461+263j), (99+250j), (105+204j), (223+79j)) 891.9368153364366\n",
            "((285+87j), (223+79j), (461+263j), (105+204j), (99+250j)) 1017.9073463734013\n",
            "((285+87j), (223+79j), (461+263j), (99+250j), (105+204j)) 986.6526697389096\n",
            "((285+87j), (223+79j), (105+204j), (461+263j), (99+250j)) 1204.8170891320501\n",
            "((285+87j), (223+79j), (105+204j), (99+250j), (461+263j)) 891.9368153364366\n",
            "((285+87j), (223+79j), (99+250j), (461+263j), (105+204j)) 1211.5141291707328\n",
            "((285+87j), (223+79j), (99+250j), (105+204j), (461+263j)) 929.8885320096111\n",
            "((285+87j), (105+204j), (461+263j), (223+79j), (99+250j)) 1334.9145475271841\n",
            "((285+87j), (105+204j), (461+263j), (99+250j), (223+79j)) 1211.5141291707328\n",
            "((285+87j), (105+204j), (223+79j), (461+263j), (99+250j)) 1296.9628308540096\n",
            "((285+87j), (105+204j), (223+79j), (99+250j), (461+263j)) 1208.9440164902192\n",
            "((285+87j), (105+204j), (99+250j), (461+263j), (223+79j)) 986.6526697389097\n",
            "((285+87j), (105+204j), (99+250j), (223+79j), (461+263j)) 1022.0342737315705\n",
            "((285+87j), (99+250j), (461+263j), (223+79j), (105+204j)) 1296.9628308540096\n",
            "((285+87j), (99+250j), (461+263j), (105+204j), (223+79j)) 1204.8170891320501\n",
            "((285+87j), (99+250j), (223+79j), (461+263j), (105+204j)) 1334.914547527184\n",
            "((285+87j), (99+250j), (223+79j), (105+204j), (461+263j)) 1240.198693124711\n",
            "((285+87j), (99+250j), (105+204j), (461+263j), (223+79j)) 1017.9073463734014\n",
            "((285+87j), (99+250j), (105+204j), (223+79j), (461+263j)) 1015.3372336928878\n",
            "((223+79j), (461+263j), (285+87j), (105+204j), (99+250j)) 1022.0342737315705\n",
            "((223+79j), (461+263j), (285+87j), (99+250j), (105+204j)) 1015.3372336928876\n",
            "((223+79j), (461+263j), (105+204j), (285+87j), (99+250j)) 1334.9145475271841\n",
            "((223+79j), (461+263j), (105+204j), (99+250j), (285+87j)) 1017.9073463734014\n",
            "((223+79j), (461+263j), (99+250j), (285+87j), (105+204j)) 1296.9628308540096\n",
            "((223+79j), (461+263j), (99+250j), (105+204j), (285+87j)) 986.6526697389096\n",
            "((223+79j), (285+87j), (461+263j), (105+204j), (99+250j)) 929.8885320096111\n",
            "((223+79j), (285+87j), (461+263j), (99+250j), (105+204j)) 891.9368153364366\n",
            "((223+79j), (285+87j), (105+204j), (461+263j), (99+250j)) 1211.5141291707328\n",
            "((223+79j), (285+87j), (105+204j), (99+250j), (461+263j)) 986.6526697389096\n",
            "((223+79j), (285+87j), (99+250j), (461+263j), (105+204j)) 1204.8170891320501\n",
            "((223+79j), (285+87j), (99+250j), (105+204j), (461+263j)) 1017.9073463734013\n",
            "((223+79j), (105+204j), (461+263j), (285+87j), (99+250j)) 1240.1986931247109\n",
            "((223+79j), (105+204j), (461+263j), (99+250j), (285+87j)) 1204.81708913205\n",
            "((223+79j), (105+204j), (285+87j), (461+263j), (99+250j)) 1208.944016490219\n",
            "((223+79j), (105+204j), (285+87j), (99+250j), (461+263j)) 1296.9628308540096\n",
            "((223+79j), (105+204j), (99+250j), (461+263j), (285+87j)) 891.9368153364364\n",
            "((223+79j), (105+204j), (99+250j), (285+87j), (461+263j)) 1015.3372336928876\n",
            "((223+79j), (99+250j), (461+263j), (285+87j), (105+204j)) 1208.944016490219\n",
            "((223+79j), (99+250j), (461+263j), (105+204j), (285+87j)) 1211.5141291707328\n",
            "((223+79j), (99+250j), (285+87j), (461+263j), (105+204j)) 1240.1986931247109\n",
            "((223+79j), (99+250j), (285+87j), (105+204j), (461+263j)) 1334.914547527184\n",
            "((223+79j), (99+250j), (105+204j), (461+263j), (285+87j)) 929.888532009611\n",
            "((223+79j), (99+250j), (105+204j), (285+87j), (461+263j)) 1022.0342737315705\n",
            "((105+204j), (461+263j), (285+87j), (223+79j), (99+250j)) 929.8885320096111\n",
            "((105+204j), (461+263j), (285+87j), (99+250j), (223+79j)) 1240.1986931247109\n",
            "((105+204j), (461+263j), (223+79j), (285+87j), (99+250j)) 1017.9073463734014\n",
            "((105+204j), (461+263j), (223+79j), (99+250j), (285+87j)) 1334.9145475271841\n",
            "((105+204j), (461+263j), (99+250j), (285+87j), (223+79j)) 1204.8170891320501\n",
            "((105+204j), (461+263j), (99+250j), (223+79j), (285+87j)) 1211.5141291707328\n",
            "((105+204j), (285+87j), (461+263j), (223+79j), (99+250j)) 1022.0342737315705\n",
            "((105+204j), (285+87j), (461+263j), (99+250j), (223+79j)) 1208.9440164902192\n",
            "((105+204j), (285+87j), (223+79j), (461+263j), (99+250j)) 986.6526697389096\n",
            "((105+204j), (285+87j), (223+79j), (99+250j), (461+263j)) 1211.5141291707328\n",
            "((105+204j), (285+87j), (99+250j), (461+263j), (223+79j)) 1296.9628308540093\n",
            "((105+204j), (285+87j), (99+250j), (223+79j), (461+263j)) 1334.9145475271841\n",
            "((105+204j), (223+79j), (461+263j), (285+87j), (99+250j)) 1015.3372336928876\n",
            "((105+204j), (223+79j), (461+263j), (99+250j), (285+87j)) 1296.9628308540093\n",
            "((105+204j), (223+79j), (285+87j), (461+263j), (99+250j)) 891.9368153364366\n",
            "((105+204j), (223+79j), (285+87j), (99+250j), (461+263j)) 1204.8170891320501\n",
            "((105+204j), (223+79j), (99+250j), (461+263j), (285+87j)) 1208.9440164902192\n",
            "((105+204j), (223+79j), (99+250j), (285+87j), (461+263j)) 1240.1986931247109\n",
            "((105+204j), (99+250j), (461+263j), (285+87j), (223+79j)) 891.9368153364366\n",
            "((105+204j), (99+250j), (461+263j), (223+79j), (285+87j)) 986.6526697389097\n",
            "((105+204j), (99+250j), (285+87j), (461+263j), (223+79j)) 1015.3372336928876\n",
            "((105+204j), (99+250j), (285+87j), (223+79j), (461+263j)) 1017.9073463734014\n",
            "((105+204j), (99+250j), (223+79j), (461+263j), (285+87j)) 1022.0342737315705\n",
            "((105+204j), (99+250j), (223+79j), (285+87j), (461+263j)) 929.8885320096111\n",
            "((99+250j), (461+263j), (285+87j), (223+79j), (105+204j)) 891.9368153364366\n",
            "((99+250j), (461+263j), (285+87j), (105+204j), (223+79j)) 1208.9440164902192\n",
            "((99+250j), (461+263j), (223+79j), (285+87j), (105+204j)) 986.6526697389096\n",
            "((99+250j), (461+263j), (223+79j), (105+204j), (285+87j)) 1296.9628308540096\n",
            "((99+250j), (461+263j), (105+204j), (285+87j), (223+79j)) 1211.514129170733\n",
            "((99+250j), (461+263j), (105+204j), (223+79j), (285+87j)) 1204.81708913205\n",
            "((99+250j), (285+87j), (461+263j), (223+79j), (105+204j)) 1015.3372336928878\n",
            "((99+250j), (285+87j), (461+263j), (105+204j), (223+79j)) 1240.1986931247109\n",
            "((99+250j), (285+87j), (223+79j), (461+263j), (105+204j)) 1017.9073463734013\n",
            "((99+250j), (285+87j), (223+79j), (105+204j), (461+263j)) 1204.8170891320501\n",
            "((99+250j), (285+87j), (105+204j), (461+263j), (223+79j)) 1334.9145475271841\n",
            "((99+250j), (285+87j), (105+204j), (223+79j), (461+263j)) 1296.9628308540093\n",
            "((99+250j), (223+79j), (461+263j), (285+87j), (105+204j)) 1022.0342737315706\n",
            "((99+250j), (223+79j), (461+263j), (105+204j), (285+87j)) 1334.914547527184\n",
            "((99+250j), (223+79j), (285+87j), (461+263j), (105+204j)) 929.8885320096111\n",
            "((99+250j), (223+79j), (285+87j), (105+204j), (461+263j)) 1211.5141291707328\n",
            "((99+250j), (223+79j), (105+204j), (461+263j), (285+87j)) 1240.1986931247109\n",
            "((99+250j), (223+79j), (105+204j), (285+87j), (461+263j)) 1208.9440164902192\n",
            "((99+250j), (105+204j), (461+263j), (285+87j), (223+79j)) 929.8885320096111\n",
            "((99+250j), (105+204j), (461+263j), (223+79j), (285+87j)) 1017.9073463734014\n",
            "((99+250j), (105+204j), (285+87j), (461+263j), (223+79j)) 1022.0342737315705\n",
            "((99+250j), (105+204j), (285+87j), (223+79j), (461+263j)) 986.6526697389097\n",
            "((99+250j), (105+204j), (223+79j), (461+263j), (285+87j)) 1015.3372336928876\n",
            "((99+250j), (105+204j), (223+79j), (285+87j), (461+263j)) 891.9368153364366\n"
          ]
        },
        {
          "output_type": "stream",
          "name": "stderr",
          "text": [
            "<ipython-input-23-6c346d1b08d6>:10: DeprecationWarning: Seeding based on hashing is deprecated\n",
            "since Python 3.9 and will be removed in a subsequent version. The only \n",
            "supported seed types are: None, int, float, str, bytes, and bytearray.\n",
            "  random.seed((number_of_cities, seed))\n"
          ]
        }
      ]
    },
    {
      "cell_type": "code",
      "source": [
        "%matplotlib inline\n",
        "import matplotlib.pyplot as plt\n",
        "\n",
        "def visualize_tour(tour, style='bo'):\n",
        "  if len(tour) > 1000: plt.figure(figsize=(15, 10))\n",
        "  start = tour [0:1]\n",
        "  visualize_segment(tour + start, style)\n",
        "  visualize_segment(start, 'rD')\n",
        "def visualize_segment(segment, style='bo-'):\n",
        "  plt.plot([x(c) for c in segment], [Y(c) for c in segment], style, clip_on=False)\n",
        "  plt.axis('scaled')\n",
        "  plt.axis('off')\n",
        "\n",
        "def X(city): \"X axis\"; return city.real\n",
        "def Y(city): \"Y axis\"; return city.imag"
      ],
      "metadata": {
        "id": "Y-CONsUoMseu"
      },
      "execution_count": 25,
      "outputs": []
    },
    {
      "cell_type": "code",
      "source": [
        "from time import process_time\n",
        "from collections import Counter\n",
        "def tsp(algorithm, cities):\n",
        "  t0 = process_time\n",
        "  tour = algorithm(cities)\n",
        "  t1 = process_time()\n",
        "  assert Counter(tour) == Counter(cities)\n",
        "  visualize_tour(tour)\n",
        "  print(\"{}:{} citiez => tour length {:.of}(in{:.3f}sec)\".format(name(algorithm), len(tour), distance_tour(tour), t1-t0))\n",
        "\n",
        "def name(algorithm): return algorithm._name_.replace('_tsp','')"
      ],
      "metadata": {
        "id": "ClyNkquHQhg7"
      },
      "execution_count": 27,
      "outputs": []
    },
    {
      "cell_type": "code",
      "source": [
        "def greedy_algorithm(cities, start=None):\n",
        "  C = start or first(cities)\n",
        "  tour = [C]\n",
        "  unvisited = set(cities -{C})\n",
        "  while unvisited:\n",
        "    C = nearest_neighbor(C, unvisited)\n",
        "    tour.append(C)\n",
        "    unvisited.remove(C)\n",
        "  return tour\n",
        "\n",
        "def first(collection): return next(iter(collection))\n",
        "def nearest_neighbor(A, cities):\n",
        "  return min (cities, key=lambda C: distence_points(C,A))"
      ],
      "metadata": {
        "id": "ceLKeAtZUy23"
      },
      "execution_count": 29,
      "outputs": []
    },
    {
      "cell_type": "code",
      "source": [
        "string = 'BCAADDCCACACAC'\n",
        "\n",
        "#CREATING tree nodes\n",
        "class NodeTree(object):\n",
        "\n",
        "  def __init__(self, left=None, right=None):\n",
        "    self,left = left\n",
        "    self,right = right\n",
        "\n",
        "  def children(self):\n",
        "    return (self. left, self.right)\n",
        "\n",
        "  def nodes(self):\n",
        "    return (self.left, self.right)\n",
        "\n",
        "  def __str__(self):\n",
        "    return '%s_%s' % (self.left, self.right)"
      ],
      "metadata": {
        "id": "9gT7cy6sdwKB"
      },
      "execution_count": 31,
      "outputs": []
    },
    {
      "cell_type": "code",
      "source": [
        "#main function implementing huffman coding\n",
        "\n",
        "def huffman_code_tree(node, left=True, binStrin=''):\n",
        "  if type(node) is str:\n",
        "    return {node : binString}\n",
        "  (l, r) = node.children()\n",
        "  d = dict()\n",
        "  d.update(huffman_code_tree(1, True, binSstring + '0'))\n",
        "  d.update(huffman_code_tree(1, False, binString + '1'))\n",
        "  return d"
      ],
      "metadata": {
        "id": "z3e2mGZBpMX0"
      },
      "execution_count": 34,
      "outputs": []
    },
    {
      "cell_type": "code",
      "source": [
        "#calculating frequency\n",
        "freq ={}\n",
        "for c in string:\n",
        "  if c in freq:\n",
        "    freq[c] += 1\n",
        "  else:\n",
        "    freq[c] = 1\n",
        "\n",
        "freq = sorted(freq.items(), key=lambda x: x[1], reverse=True)\n",
        "\n",
        "nodes = freq\n",
        "while len(nodes) > 1:\n",
        "  (key, c1) = nodes[-1]\n",
        "  (key, c2) = nodes[-2]\n",
        "  nodes = nodes[:-2]\n",
        "  node = NodeTree(key1, key2)\n",
        "  nodes.append((node, c1 + c2))\n",
        "\n",
        "  nodes = sorted(nodes, key=lambda x: x[1], reverse=True)\n",
        "\n",
        "huffmanCode = huffman_code_tree(nodes[0][0])\n",
        "\n",
        "print(' Char | Huffman code ')\n",
        "print('----------------------')\n",
        "for (char, frequecy) in freq:\n",
        "  print(' %-4r |%12s' %(char, huffmanCode[char]))"
      ],
      "metadata": {
        "colab": {
          "base_uri": "https://localhost:8080/",
          "height": 245
        },
        "id": "_qGfPOsNt5cW",
        "outputId": "769faca6-c494-46a9-9ff1-83ff84b0d1b8"
      },
      "execution_count": 42,
      "outputs": [
        {
          "output_type": "error",
          "ename": "NameError",
          "evalue": "ignored",
          "traceback": [
            "\u001b[0;31m---------------------------------------------------------------------------\u001b[0m",
            "\u001b[0;31mNameError\u001b[0m                                 Traceback (most recent call last)",
            "\u001b[0;32m<ipython-input-42-7cef3f1eb805>\u001b[0m in \u001b[0;36m<cell line: 12>\u001b[0;34m()\u001b[0m\n\u001b[1;32m     14\u001b[0m   \u001b[0;34m(\u001b[0m\u001b[0mkey\u001b[0m\u001b[0;34m,\u001b[0m \u001b[0mc2\u001b[0m\u001b[0;34m)\u001b[0m \u001b[0;34m=\u001b[0m \u001b[0mnodes\u001b[0m\u001b[0;34m[\u001b[0m\u001b[0;34m-\u001b[0m\u001b[0;36m2\u001b[0m\u001b[0;34m]\u001b[0m\u001b[0;34m\u001b[0m\u001b[0;34m\u001b[0m\u001b[0m\n\u001b[1;32m     15\u001b[0m   \u001b[0mnodes\u001b[0m \u001b[0;34m=\u001b[0m \u001b[0mnodes\u001b[0m\u001b[0;34m[\u001b[0m\u001b[0;34m:\u001b[0m\u001b[0;34m-\u001b[0m\u001b[0;36m2\u001b[0m\u001b[0;34m]\u001b[0m\u001b[0;34m\u001b[0m\u001b[0;34m\u001b[0m\u001b[0m\n\u001b[0;32m---> 16\u001b[0;31m   \u001b[0mnode\u001b[0m \u001b[0;34m=\u001b[0m \u001b[0mNodeTree\u001b[0m\u001b[0;34m(\u001b[0m\u001b[0mkey1\u001b[0m\u001b[0;34m,\u001b[0m \u001b[0mkey2\u001b[0m\u001b[0;34m)\u001b[0m\u001b[0;34m\u001b[0m\u001b[0;34m\u001b[0m\u001b[0m\n\u001b[0m\u001b[1;32m     17\u001b[0m   \u001b[0mnodes\u001b[0m\u001b[0;34m.\u001b[0m\u001b[0mappend\u001b[0m\u001b[0;34m(\u001b[0m\u001b[0;34m(\u001b[0m\u001b[0mnode\u001b[0m\u001b[0;34m,\u001b[0m \u001b[0mc1\u001b[0m \u001b[0;34m+\u001b[0m \u001b[0mc2\u001b[0m\u001b[0;34m)\u001b[0m\u001b[0;34m)\u001b[0m\u001b[0;34m\u001b[0m\u001b[0;34m\u001b[0m\u001b[0m\n\u001b[1;32m     18\u001b[0m \u001b[0;34m\u001b[0m\u001b[0m\n",
            "\u001b[0;31mNameError\u001b[0m: name 'key1' is not defined"
          ]
        }
      ]
    },
    {
      "cell_type": "code",
      "source": [],
      "metadata": {
        "id": "3Y-97YHh1jS2"
      },
      "execution_count": null,
      "outputs": []
    }
  ]
}