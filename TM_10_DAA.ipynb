{
  "nbformat": 4,
  "nbformat_minor": 0,
  "metadata": {
    "colab": {
      "provenance": [],
      "authorship_tag": "ABX9TyMBH/l14089uTHlxAjIOFWV",
      "include_colab_link": true
    },
    "kernelspec": {
      "name": "python3",
      "display_name": "Python 3"
    },
    "language_info": {
      "name": "python"
    }
  },
  "cells": [
    {
      "cell_type": "markdown",
      "metadata": {
        "id": "view-in-github",
        "colab_type": "text"
      },
      "source": [
        "<a href=\"https://colab.research.google.com/github/Fayedyamani107/latihan--DAA/blob/main/TM_10_DAA.ipynb\" target=\"_parent\"><img src=\"https://colab.research.google.com/assets/colab-badge.svg\" alt=\"Open In Colab\"/></a>"
      ]
    },
    {
      "cell_type": "code",
      "execution_count": 1,
      "metadata": {
        "colab": {
          "base_uri": "https://localhost:8080/"
        },
        "id": "WDqkPyBXQEu6",
        "outputId": "0f2ae4e9-c0d7-4abb-cad9-4771102f4c7b"
      },
      "outputs": [
        {
          "output_type": "stream",
          "name": "stdout",
          "text": [
            "Collecting pulp\n",
            "  Downloading PuLP-2.7.0-py3-none-any.whl (14.3 MB)\n",
            "\u001b[2K     \u001b[90m━━━━━━━━━━━━━━━━━━━━━━━━━━━━━━━━━━━━━━━━\u001b[0m \u001b[32m14.3/14.3 MB\u001b[0m \u001b[31m88.0 MB/s\u001b[0m eta \u001b[36m0:00:00\u001b[0m\n",
            "\u001b[?25hInstalling collected packages: pulp\n",
            "Successfully installed pulp-2.7.0\n"
          ]
        }
      ],
      "source": [
        "pip install pulp"
      ]
    },
    {
      "cell_type": "code",
      "source": [
        "import pulp\n",
        "\n",
        "# Buat masalah pemrograman linier\n",
        "model = pulp.LpProblem(\"Maximize_Profit\", pulp.LpMaximize)\n",
        "\n",
        "# Tentukan variabel keputusan\n",
        "A = pulp.LpVariable(\"A\", lowBound=0, cat=\"Integer\")\n",
        "B = pulp.LpVariable(\"B\", lowBound=0, cat=\"Integer\")\n",
        "\n",
        "# Tentukan fungsi objektif\n",
        "model += 4200 * A + 2800 * B, \"Keuntungan\"\n",
        "\n",
        "# Tentukan batasan-batasan\n",
        "model += 3 * A + 2 * B <= 20, \"Teknisi\"\n",
        "model += 4 * A + 3 * B <= 30, \"Spesialis_AI\"\n",
        "model += 4 * A + 3 * B <= 44, \"Engineer\"\n",
        "\n",
        "# Selesaikan masalah\n",
        "model.solve()\n",
        "pulp.LpStatus[model.status]\n",
        "\n",
        "# Tampilkan hasil\n",
        "print(\"Jumlah robot canggih (A):\", pulp.value(A))\n",
        "print(\"Jumlah robot dasar (B):\", pulp.value(B))\n",
        "print(\"Keuntungan maksimum:\", pulp.value(model.objective))"
      ],
      "metadata": {
        "colab": {
          "base_uri": "https://localhost:8080/"
        },
        "id": "caAMZoRnaZWO",
        "outputId": "7f096636-a541-4465-f197-8a2d17670217"
      },
      "execution_count": 22,
      "outputs": [
        {
          "output_type": "stream",
          "name": "stdout",
          "text": [
            "Jumlah robot canggih (A): 6.0\n",
            "Jumlah robot dasar (B): 1.0\n",
            "Keuntungan maksimum: 28000.0\n"
          ]
        }
      ]
    },
    {
      "cell_type": "code",
      "source": [
        "# 5x + y = 37\n",
        "import pulp\n",
        "\n",
        "# Membuat objek masalah optimasi\n",
        "model = pulp.LpProblem(name=\"Pemecahan_Persamaan\", sense=pulp.LpMinimize)\n",
        "\n",
        "#Membuat variable x dan y\n",
        "x = pulp.LpVariable(name=\"x\")\n",
        "y = pulp.LpVariable(name=\"y\")\n",
        "\n",
        "# Menambahkan Batasan\n",
        "model += 4 * x + 3 * y == 34\n",
        "\n",
        "# Menyelesaikan Masalah\n",
        "model.solve()\n",
        "\n",
        "# Menampilkan Hasil\n",
        "print(\"Status:\", model.status)\n",
        "print(\"Nilai x =\", x.varValue)\n",
        "print(\"Nilai y =\", y.varValue)"
      ],
      "metadata": {
        "colab": {
          "base_uri": "https://localhost:8080/"
        },
        "id": "sPviIg6pdkJV",
        "outputId": "621f93da-b76b-40d1-a94d-848dcb74f2ad"
      },
      "execution_count": 20,
      "outputs": [
        {
          "output_type": "stream",
          "name": "stdout",
          "text": [
            "Status: 1\n",
            "Nilai x = 8.5\n",
            "Nilai y = 0.0\n"
          ]
        }
      ]
    },
    {
      "cell_type": "code",
      "source": [
        "# 5x + y = 37\n",
        "import pulp\n",
        "\n",
        "# Membuat objek masalah optimasi\n",
        "model = pulp.LpProblem(name=\"Pemecahan_Persamaan\", sense=pulp.LpMinimize)\n",
        "\n",
        "#Membuat variable x dan y\n",
        "x = pulp.LpVariable(name=\"x\")\n",
        "y = pulp.LpVariable(name=\"y\")\n",
        "\n",
        "# Menambahkan Batasan\n",
        "model += 5 * x + 1 * y == 37\n",
        "\n",
        "# Menyelesaikan Masalah\n",
        "model.solve()\n",
        "\n",
        "# Menampilkan Hasil\n",
        "print(\"Status:\", model.status)\n",
        "print(\"Nilai x =\", x.varValue)\n",
        "print(\"Nilai y =\", y.varValue)"
      ],
      "metadata": {
        "colab": {
          "base_uri": "https://localhost:8080/"
        },
        "id": "5XasskTekd9C",
        "outputId": "9ed6e4a0-2e44-4bac-edd7-84014e519ecd"
      },
      "execution_count": 19,
      "outputs": [
        {
          "output_type": "stream",
          "name": "stdout",
          "text": [
            "Status: 1\n",
            "Nilai x = 7.4\n",
            "Nilai y = 0.0\n"
          ]
        }
      ]
    },
    {
      "cell_type": "code",
      "source": [
        "# Latihan Soal Cerita 1\n",
        "\n",
        "model = pulp.LpProblem(\"ProfitMaximisingProblem\", pulp.LpMaximize)\n",
        "P = pulp.LpVariable('X', lowBound=0, cat='Integer')\n",
        "B = pulp.LpVariable('Y', lowBound=0, cat='Integer')\n",
        "\n",
        "model += 3 * P + 4 * B == 11000\n",
        "model += 1 * P + 7 * B == 15000\n",
        "model += 2 * P + 6 * B, 'Hasil'\n",
        "\n",
        "model.solve()\n",
        "pulp.LpStatus[model.status]\n",
        "\n",
        "print(\"P =\", P.varValue)\n",
        "print(\"B =\", B.varValue)\n",
        "print(\"2P + 6B =\", pulp.value(model.objective))"
      ],
      "metadata": {
        "colab": {
          "base_uri": "https://localhost:8080/"
        },
        "id": "0Q-MKz5IlqaC",
        "outputId": "e385f1ea-6fc5-43c0-d7d6-016910ea710e"
      },
      "execution_count": 24,
      "outputs": [
        {
          "output_type": "stream",
          "name": "stdout",
          "text": [
            "P = 1000.0\n",
            "B = 2000.0\n",
            "2P + 6B = 14000.0\n"
          ]
        }
      ]
    },
    {
      "cell_type": "code",
      "source": [
        "#latihan soal cerita 2\n",
        "model = pulp.LpProblem(\"KelilingPersegiPanjang\", pulp.LpMaximize)\n",
        "X = pulp.LpVariable('X', lowBound=0, cat='Integer')\n",
        "Y = pulp.LpVariable('Y', lowBound=0, cat='Integer')\n",
        "\n",
        "model += 2 * X + 2 * Y, 'Keliling'\n",
        "\n",
        "model += 2 * X + 2 * Y == 44\n",
        "model += 2 * X + 2 * (X - 6) == 44\n",
        "\n",
        "model.solve()\n",
        "pulp.LpStatus[model.status]\n",
        "\n",
        "print (X.varValue)\n",
        "print (Y.varValue)\n",
        "print (pulp.value(model.objective))"
      ],
      "metadata": {
        "colab": {
          "base_uri": "https://localhost:8080/"
        },
        "id": "wvh1HO5560sM",
        "outputId": "48c8ffe5-6a84-40b4-cd46-4921d3e9a6c5"
      },
      "execution_count": 25,
      "outputs": [
        {
          "output_type": "stream",
          "name": "stdout",
          "text": [
            "14.0\n",
            "8.0\n",
            "44.0\n"
          ]
        }
      ]
    },
    {
      "cell_type": "code",
      "source": [
        "#import required libraries\n",
        "import numpy as np\n",
        "from scipy.optimize import linprog\n",
        "\n",
        "\n",
        "#Set the inequality constraints matrix\n",
        "#note : the inequelity constraints must be in the from of <=\n",
        "A = np.array([[1, 0], [2, 3], [1, 1], [-1, 0], [0, -1]])\n",
        "\n",
        "#set the inequality constraints vector\n",
        "b = np.array([16, 19, 8, 0, 0])\n",
        "\n",
        "#Set the coefficients of the linear objective function vector\n",
        "#note : when maximizing change the sign of the c vector coefficient\n",
        "c = np.array([-5, -7])\n",
        "\n",
        "#solve liniear programming problem\n",
        "res = linprog(c, A_ub=A, b_ub=b)\n",
        "\n",
        "#print result\n",
        "print('Optimal value:', round(res.fun*-1, ndigits=2),\n",
        "      '\\nx values:', res.x,\n",
        "      '\\nNumber of iterations performed:', res.nit,\n",
        "      '\\nStatus:', res.message)"
      ],
      "metadata": {
        "colab": {
          "base_uri": "https://localhost:8080/"
        },
        "id": "X44UA6_Q9Bxj",
        "outputId": "d8db4a6b-a271-44db-c8c2-e853972f9a41"
      },
      "execution_count": 29,
      "outputs": [
        {
          "output_type": "stream",
          "name": "stdout",
          "text": [
            "Optimal value: 46.0 \n",
            "x values: [5. 3.] \n",
            "Number of iterations performed: 3 \n",
            "Status: Optimization terminated successfully. (HiGHS Status 7: Optimal)\n"
          ]
        }
      ]
    },
    {
      "cell_type": "code",
      "source": [
        "#1. import modul yang diperlukan dari Scipy:\n",
        "from scipy.optimize import linprog\n",
        "\n",
        "#2. tentukan koefisien fungsi tujuan dan matriks batasan :\n",
        "\n",
        "#koefisien fungsi tujuan (Z = -5x1 + 7x2)\n",
        "c = [-5, -7] #karena kita ingin \"maksimalkan\" -5x1 - 7x2, maka perlu diubah \"-5\" dan \"-7\".\n",
        "\n",
        "\n",
        "#koefisien matriks batasan\n",
        "A = [\n",
        "    [1, 0], #1x1 + 0x2 <= 16\n",
        "    [2, 3], #2x1 + 3x2 <= 19\n",
        "    [1, 1], #1x1 + 1x2 <= 8\n",
        "]\n",
        "\n",
        "#Batasan kanan (rhs) dari masing-masing batasan\n",
        "b = [16, 19, 8]\n",
        "\n",
        "#3. tentukan batasan variabel x1 dan x2 sebagai variabel non-negatif:\n",
        "x1_bounds = (0, None) #x1 >= 0\n",
        "x2_bounds = (0, None) #x2 >= 0\n",
        "\n",
        "#4. gunakan linprog untuk menyelesaikan masalah pemrograman linier :\n",
        "result = linprog(c, A_ub=A, b_ub=b, bounds=[x1_bounds, x2_bounds], method=\"highs\")\n",
        "\n",
        "#5. tampilkan hasilnya;\n",
        "\n",
        "#hasil optimal\n",
        "print(\"Optimal Solution:\")\n",
        "print(\"x1 =\", result.x[0])\n",
        "print(\"x2 =\", result.x[1])\n",
        "print(\"Max Z =\", -result.fun) #karena tujuannya adalah memaksimalkan -Z"
      ],
      "metadata": {
        "colab": {
          "base_uri": "https://localhost:8080/"
        },
        "id": "13v6VWs8CIRa",
        "outputId": "31778c0b-d4bc-422b-9409-3889729fd1f1"
      },
      "execution_count": 30,
      "outputs": [
        {
          "output_type": "stream",
          "name": "stdout",
          "text": [
            "Optimal Solution:\n",
            "x1 = 5.0\n",
            "x2 = 3.0\n",
            "Max Z = 46.0\n"
          ]
        }
      ]
    },
    {
      "cell_type": "code",
      "source": [
        "# Latihan 1\n",
        "\n",
        "# 1. Impor modul yang diperlukan dari SciPy\n",
        "from scipy.optimize import linprog\n",
        "\n",
        "# 2. Tentukan koefisien fungsi tujuan dan matriks batasan\n",
        "\n",
        "c = [-4, -12]\n",
        "\n",
        "# Koefisien matriks batasan\n",
        "A = [\n",
        "    [4, 12] # 4x + 12y <= 28\n",
        "]\n",
        "\n",
        "# Batasan kanan (rhs) dari masing-masing batasan\n",
        "b = [28]\n",
        "\n",
        "# 3. tentukan batasan variabel x1 dan x2 sebagai variabel non-negatif\n",
        "x1_bounds = (0, None) # x >= 0\n",
        "x2_bounds = (0, None) # y >= 0\n",
        "\n",
        "# 4. Gunakan linprog untuk menyelesaikan masalah pemrograman linier\n",
        "result = linprog(c, A_ub=A, b_ub=b, bounds=[x1_bounds, x2_bounds], method=\"highs\")\n",
        "\n",
        "# 5. Tampilkan hasilnya\n",
        "# Hasil optimasi\n",
        "print(\"Optimal Solution:\")\n",
        "print(\"x =\", result.x[0])\n",
        "print(\"y =\", result.x[1])\n",
        "print(\"Max Z =\", -result.fun) # Karena tujuannya adalah memaksimalkan -Z"
      ],
      "metadata": {
        "colab": {
          "base_uri": "https://localhost:8080/"
        },
        "id": "qVu4FpinKTEn",
        "outputId": "ec802f4d-27a1-44a9-f88a-d73747a129e1"
      },
      "execution_count": 31,
      "outputs": [
        {
          "output_type": "stream",
          "name": "stdout",
          "text": [
            "Optimal Solution:\n",
            "x = 7.0\n",
            "y = 0.0\n",
            "Max Z = 28.0\n"
          ]
        }
      ]
    },
    {
      "cell_type": "code",
      "source": [
        "# Latihan 2\n",
        "\n",
        "# 1. Impor modul yang diperlukan dari SciPy\n",
        "from scipy.optimize import linprog\n",
        "\n",
        "# 2. Tentukan koefisien fungsi tujuan dan matriks batasan\n",
        "\n",
        "c = [-2, -1]\n",
        "\n",
        "# Koefisien matriks batasan\n",
        "A = [\n",
        "    [2, 1] # 2x + y <= 21\n",
        "]\n",
        "\n",
        "# Batasan kanan (rhs) dari masing-masing batasan\n",
        "b = [21]\n",
        "\n",
        "# 3. tentukan batasan variabel x1 dan x2 sebagai variabel non-negatif\n",
        "x1_bounds = (0, None) # x >= 0\n",
        "x2_bounds = (0, None) # y >= 0\n",
        "\n",
        "# 4. Gunakan linprog untuk menyelesaikan masalah pemrograman linier\n",
        "result = linprog(c, A_ub=A, b_ub=b, bounds=[x1_bounds, x2_bounds], method=\"highs\")\n",
        "\n",
        "# 5. Tampilkan hasilnya\n",
        "# Hasil optimasi\n",
        "print(\"Optimal Solution:\")\n",
        "print(\"x =\", result.x[0])\n",
        "print(\"y =\", result.x[1])\n",
        "print(\"Max Z =\", -result.fun) # Karena tujuannya adalah memaksimalkan -Z"
      ],
      "metadata": {
        "colab": {
          "base_uri": "https://localhost:8080/"
        },
        "id": "WK-5npJ9KZBH",
        "outputId": "abeefe10-feba-4c6b-acc9-fddefadb0883"
      },
      "execution_count": 33,
      "outputs": [
        {
          "output_type": "stream",
          "name": "stdout",
          "text": [
            "Optimal Solution:\n",
            "x = 10.5\n",
            "y = 0.0\n",
            "Max Z = 21.0\n"
          ]
        }
      ]
    },
    {
      "cell_type": "code",
      "source": [
        "# Latihan 3\n",
        "\n",
        "# 1. Impor modul yang diperlukan dari SciPy\n",
        "from scipy.optimize import linprog\n",
        "\n",
        "# 2. Tentukan koefisien fungsi tujuan dan matriks batasan\n",
        "\n",
        "c = [0, 0]\n",
        "\n",
        "# Koefisien matriks batasan\n",
        "A = [\n",
        "    [1, 1], # x + y = 16\n",
        "    [3, 4]  # 3x + 4y = 55\n",
        "]\n",
        "\n",
        "# Batasan kanan (rhs) dari masing-masing batasan\n",
        "b = [16, 55]\n",
        "\n",
        "# 3. tentukan batasan variabel x1 dan x2 sebagai variabel non-negatif\n",
        "x1_bounds = (0, None) # x >= 0\n",
        "x2_bounds = (0, None) # y >= 0\n",
        "\n",
        "# 4. Gunakan linprog untuk menyelesaikan masalah pemrograman linier\n",
        "result = linprog(c, A_eq=A, b_eq=b, bounds=[x1_bounds, x2_bounds], method=\"highs\")\n",
        "\n",
        "# 5. Tampilkan hasilnya\n",
        "# Hasil optimasi\n",
        "print(\"Optimal Solution:\")\n",
        "print(\"x =\", result.x[0])\n",
        "print(\"y =\", result.x[1])"
      ],
      "metadata": {
        "colab": {
          "base_uri": "https://localhost:8080/"
        },
        "id": "uMCCexKIKfM3",
        "outputId": "4340bfcb-87c9-4416-bce8-caef2cf472a9"
      },
      "execution_count": 34,
      "outputs": [
        {
          "output_type": "stream",
          "name": "stdout",
          "text": [
            "Optimal Solution:\n",
            "x = 9.0\n",
            "y = 7.0\n"
          ]
        }
      ]
    }
  ]
}