{
  "nbformat": 4,
  "nbformat_minor": 0,
  "metadata": {
    "colab": {
      "provenance": [],
      "authorship_tag": "ABX9TyN7qlRrbiyOE8b+34e/KKPy",
      "include_colab_link": true
    },
    "kernelspec": {
      "name": "python3",
      "display_name": "Python 3"
    },
    "language_info": {
      "name": "python"
    }
  },
  "cells": [
    {
      "cell_type": "markdown",
      "metadata": {
        "id": "view-in-github",
        "colab_type": "text"
      },
      "source": [
        "<a href=\"https://colab.research.google.com/github/Fayedyamani107/latihan--DAA/blob/main/Tugas_Minggu_11.ipynb\" target=\"_parent\"><img src=\"https://colab.research.google.com/assets/colab-badge.svg\" alt=\"Open In Colab\"/></a>"
      ]
    },
    {
      "cell_type": "code",
      "execution_count": null,
      "metadata": {
        "colab": {
          "base_uri": "https://localhost:8080/"
        },
        "id": "g3JjJYbegmcm",
        "outputId": "a5ce539a-07f6-453c-ee59-7cffaf4d249e"
      },
      "outputs": [
        {
          "output_type": "stream",
          "name": "stdout",
          "text": [
            "{'a': ['b', 'c'], 'b': ['a', 'd'], 'c': ['a', 'd'], 'd': ['e'], 'e': ['d']}\n"
          ]
        }
      ],
      "source": [
        "#a-----b\n",
        "#|     |\n",
        "#|     |\n",
        "#c-----d-----e\n",
        "\n",
        "#create the dictionary with graph elements\n",
        "graph = {\"a\" : [\"b\",\"c\"],\n",
        "         \"b\" : [\"a\",\"d\"],\n",
        "         \"c\" : [\"a\",\"d\"],\n",
        "         \"d\" : [\"e\"],\n",
        "         \"e\" : [\"d\"]\n",
        "         }\n",
        "\n",
        "#print the graph\n",
        "print(graph)"
      ]
    },
    {
      "cell_type": "code",
      "source": [
        "#lqtihan 1\n",
        "graph = {\n",
        "    \"T\": [\"U\"],\n",
        "    \"U\": [\"T\", \"V\"],\n",
        "    \"V\": [\"U\", \"S\"],\n",
        "    \"W\": [\"X\", \"Z\"],\n",
        "    \"X\": [\"W\", \"S\"],\n",
        "    \"Z\": [\"W\"],\n",
        "    \"S\": [\"V\", \"X\"]\n",
        "}\n",
        "\n",
        "# print the graph\n",
        "print(graph)\n"
      ],
      "metadata": {
        "colab": {
          "base_uri": "https://localhost:8080/"
        },
        "id": "ncNnSK6mmCiB",
        "outputId": "e69fe4ce-6790-487a-a50b-735bc4986538"
      },
      "execution_count": null,
      "outputs": [
        {
          "output_type": "stream",
          "name": "stdout",
          "text": [
            "{'T': ['U'], 'U': ['T', 'V'], 'V': ['U', 'S'], 'W': ['X', 'Z'], 'X': ['W', 'S'], 'Z': ['W'], 'S': ['V', 'X']}\n"
          ]
        }
      ]
    },
    {
      "cell_type": "code",
      "source": [
        "#latihan 2\n",
        "graph = {\n",
        "    \"r\": [\"o\", \"l\"],\n",
        "    \"o\": [\"r\", \"m\", \"p\"],\n",
        "    \"m\": [\"o\", \"n\"],\n",
        "    \"l\": [\"r\", \"p\"],\n",
        "    \"p\": [\"o\", \"l\"],\n",
        "    \"n\": [\"m\"]\n",
        "}\n",
        "\n",
        "# print the graph\n",
        "print(graph)"
      ],
      "metadata": {
        "id": "Q9AU2rHbnA9q"
      },
      "execution_count": null,
      "outputs": []
    },
    {
      "cell_type": "code",
      "source": [
        "#element simpul graph\n",
        "class Graph:\n",
        "  def __init__(self, gdict=None):\n",
        "    if gdict is  None:\n",
        "      gdict = {}\n",
        "    self.gdict = gdict\n",
        "\n",
        "  #Get the keys of dictionary\n",
        "  def getVertices(self):\n",
        "      return list(self.gdict.keys())\n",
        "\n",
        "#create dictionary with graph elements\n",
        "graph_elements = {\n",
        "         \"a\" : [\"b\",\"c\"],\n",
        "         \"b\" : [\"a\",\"d\"],\n",
        "         \"c\" : [\"a\",\"d\"],\n",
        "         \"d\" : [\"e\"],\n",
        "         \"e\" : [\"d\"]\n",
        "}\n",
        "\n",
        "#Create an distance of graph class and pass the graph_elemens\n",
        "g = Graph(graph_elements)\n",
        "\n",
        "#print the vertices by calling the getVertices method with parntheses\n",
        "print(g.getVertices())"
      ],
      "metadata": {
        "id": "dhsXLbTSnYqe",
        "colab": {
          "base_uri": "https://localhost:8080/"
        },
        "outputId": "557160c6-40bf-4b4f-d57f-0b47401c3ec2"
      },
      "execution_count": 20,
      "outputs": [
        {
          "output_type": "stream",
          "name": "stdout",
          "text": [
            "['a', 'b', 'c', 'd', 'e']\n"
          ]
        }
      ]
    },
    {
      "cell_type": "code",
      "source": [
        "# latihan element simpul graph 1\n",
        "class Graph:\n",
        "  def __init__(self, gdict=None):\n",
        "    if gdict is  None:\n",
        "      gdict = {}\n",
        "    self.gdict = gdict\n",
        "\n",
        "  #Get the keys of dictionary\n",
        "  def getVertices(self):\n",
        "      return list(self.gdict.keys())\n",
        "\n",
        "#create dictionary with graph elements\n",
        "graph_elements = {\n",
        "     \"T\": [\"U\"],\n",
        "    \"U\": [\"T\", \"V\"],\n",
        "    \"V\": [\"U\", \"S\"],\n",
        "    \"W\": [\"X\", \"Z\"],\n",
        "    \"X\": [\"W\", \"S\"],\n",
        "    \"Z\": [\"W\"],\n",
        "    \"S\": [\"V\", \"X\"]\n",
        "}\n",
        "\n",
        "#Create an distance of graph class and pass the graph_elemens\n",
        "g = Graph(graph_elements)\n",
        "\n",
        "#print the vertices by calling the getVertices method with parntheses\n",
        "print(g.getVertices())"
      ],
      "metadata": {
        "colab": {
          "base_uri": "https://localhost:8080/"
        },
        "id": "fNtTAVk9kQ9s",
        "outputId": "4893d49f-53c9-4e2f-cf29-75080ab03ab2"
      },
      "execution_count": 22,
      "outputs": [
        {
          "output_type": "stream",
          "name": "stdout",
          "text": [
            "['T', 'U', 'V', 'W', 'X', 'Z', 'S']\n"
          ]
        }
      ]
    },
    {
      "cell_type": "code",
      "source": [
        "#latihan elemen simpul graph 2\n",
        "class Graph:\n",
        "  def __init__(self, gdict=None):\n",
        "    if gdict is  None:\n",
        "      gdict = {}\n",
        "    self.gdict = gdict\n",
        "\n",
        "  #Get the keys of dictionary\n",
        "  def getVertices(self):\n",
        "      return list(self.gdict.keys())\n",
        "\n",
        "#create dictionary with graph elements\n",
        "graph_elements = {\n",
        "     \"r\": [\"o\", \"l\"],\n",
        "    \"o\": [\"r\", \"m\", \"p\"],\n",
        "    \"m\": [\"o\", \"n\"],\n",
        "    \"l\": [\"r\", \"p\"],\n",
        "    \"p\": [\"o\", \"l\"],\n",
        "    \"n\": [\"m\"]\n",
        "}\n",
        "\n",
        "#Create an distance of graph class and pass the graph_elemens\n",
        "g = Graph(graph_elements)\n",
        "\n",
        "#print the vertices by calling the getVertices method with parntheses\n",
        "print(g.getVertices())"
      ],
      "metadata": {
        "colab": {
          "base_uri": "https://localhost:8080/"
        },
        "id": "5Fho_wp1lkaz",
        "outputId": "d9e0b57e-cd2c-48a6-9c96-e354dc3c6dbb"
      },
      "execution_count": 3,
      "outputs": [
        {
          "output_type": "stream",
          "name": "stdout",
          "text": [
            "['r', 'o', 'm', 'l', 'p', 'n']\n"
          ]
        }
      ]
    },
    {
      "cell_type": "code",
      "source": [
        "#edges graph\n",
        "class graph:\n",
        " def __init__(self,gdict=None):\n",
        "    if gdict is None:\n",
        "        gdict = {}\n",
        "    self.gdict = gdict\n",
        "\n",
        " def edges(self):\n",
        "      return self.findedges()\n",
        "\n",
        "\n",
        "#Find the distinct list of edges\n",
        " def findedges(self):\n",
        "    edgename = []\n",
        "    for vrtx in self.gdict:\n",
        "        for nxtvrtx in self.gdict[vrtx]:\n",
        "          if {nxtvrtx, vrtx} not in edgename:\n",
        "            edgename.append({vrtx, nxtvrtx})\n",
        "    return edgename\n",
        "\n",
        "#Create the dictionary with graph elements\n",
        "graph_elements = {\n",
        "        \"a\" : [\"b\",\"c\"],\n",
        "         \"b\" : [\"a\",\"d\"],\n",
        "         \"c\" : [\"a\",\"d\"],\n",
        "         \"d\" : [\"e\"],\n",
        "         \"e\" : [\"d\"]\n",
        "}\n",
        "\n",
        "g = graph(graph_elements)\n",
        "\n",
        "print(g.edges())"
      ],
      "metadata": {
        "colab": {
          "base_uri": "https://localhost:8080/"
        },
        "id": "i5elwRqvlvSL",
        "outputId": "6628fcb8-2296-4a96-b2be-a75cbbf7d750"
      },
      "execution_count": 11,
      "outputs": [
        {
          "output_type": "stream",
          "name": "stdout",
          "text": [
            "[{'a', 'b'}, {'c', 'a'}, {'d', 'b'}, {'d', 'c'}, {'d', 'e'}]\n"
          ]
        }
      ]
    },
    {
      "cell_type": "code",
      "source": [
        "#latihan edges graph 1\n",
        "\n",
        "class graph:\n",
        " def __init__(self,gdict=None):\n",
        "    if gdict is None:\n",
        "        gdict = {}\n",
        "    self.gdict = gdict\n",
        "\n",
        " def edges(self):\n",
        "      return self.findedges()\n",
        "\n",
        "\n",
        "#Find the distinct list of edges\n",
        " def findedges(self):\n",
        "    edgename = []\n",
        "    for vrtx in self.gdict:\n",
        "        for nxtvrtx in self.gdict[vrtx]:\n",
        "          if {nxtvrtx, vrtx} not in edgename:\n",
        "            edgename.append({vrtx, nxtvrtx})\n",
        "    return edgename\n",
        "\n",
        "#Create the dictionary with graph elements\n",
        "graph_elements = {\n",
        "         \"T\": [\"U\"],\n",
        "    \"U\": [\"T\", \"V\"],\n",
        "    \"V\": [\"U\", \"S\"],\n",
        "    \"W\": [\"X\", \"Z\"],\n",
        "    \"X\": [\"W\", \"S\"],\n",
        "    \"Z\": [\"W\"],\n",
        "    \"S\": [\"V\", \"X\"]\n",
        "}\n",
        "\n",
        "g = graph(graph_elements)\n",
        "\n",
        "print(g.edges())"
      ],
      "metadata": {
        "colab": {
          "base_uri": "https://localhost:8080/"
        },
        "id": "CEfcDNclsYoC",
        "outputId": "7dfe4fad-7447-4c08-d000-6f43b7de9433"
      },
      "execution_count": 13,
      "outputs": [
        {
          "output_type": "stream",
          "name": "stdout",
          "text": [
            "[{'U', 'T'}, {'U', 'V'}, {'S', 'V'}, {'X', 'W'}, {'Z', 'W'}, {'S', 'X'}]\n"
          ]
        }
      ]
    },
    {
      "cell_type": "code",
      "source": [
        "#latihan egdes graph 2\n",
        "class graph:\n",
        " def __init__(self,gdict=None):\n",
        "    if gdict is None:\n",
        "        gdict = {}\n",
        "    self.gdict = gdict\n",
        "\n",
        " def edges(self):\n",
        "      return self.findedges()\n",
        "\n",
        "\n",
        "#Find the distinct list of edges\n",
        " def findedges(self):\n",
        "    edgename = []\n",
        "    for vrtx in self.gdict:\n",
        "        for nxtvrtx in self.gdict[vrtx]:\n",
        "          if {nxtvrtx, vrtx} not in edgename:\n",
        "            edgename.append({vrtx, nxtvrtx})\n",
        "    return edgename\n",
        "\n",
        "#Create the dictionary with graph elements\n",
        "graph_elements = {\n",
        "        \"r\": [\"o\", \"l\"],\n",
        "    \"o\": [\"r\", \"m\", \"p\"],\n",
        "    \"m\": [\"o\", \"n\"],\n",
        "    \"l\": [\"r\", \"p\"],\n",
        "    \"p\": [\"o\", \"l\"],\n",
        "    \"n\": [\"m\"]\n",
        "}\n",
        "\n",
        "\n",
        "g = graph(graph_elements)\n",
        "\n",
        "print(g.edges())"
      ],
      "metadata": {
        "colab": {
          "base_uri": "https://localhost:8080/"
        },
        "id": "tc4-y5V3ssr6",
        "outputId": "d1e554aa-1151-4556-b122-66d0cdf6951d"
      },
      "execution_count": 14,
      "outputs": [
        {
          "output_type": "stream",
          "name": "stdout",
          "text": [
            "[{'o', 'r'}, {'l', 'r'}, {'m', 'o'}, {'p', 'o'}, {'m', 'n'}, {'l', 'p'}]\n"
          ]
        }
      ]
    },
    {
      "cell_type": "code",
      "source": [
        "#simpul k pada graph abc\n",
        "class graph:\n",
        "  def __init__(self, gdict=None):\n",
        "    if gdict is None:\n",
        "        gdict = {}\n",
        "    self.gdict = gdict\n",
        "\n",
        "  def getVertices(self):\n",
        "      return list(self.gdict.keys())\n",
        "\n",
        "#add the vertex as a key\n",
        "  def addVertex(self, vrtx):\n",
        "     if vrtx not in self.gdict:\n",
        "        self.gdict[vrtx] = []\n",
        "\n",
        "#Create the dictionary with graph elements\n",
        "graph_elements = {\n",
        "         \"a\" : [\"b\",\"c\"],\n",
        "         \"b\" : [\"a\",\"d\"],\n",
        "         \"c\" : [\"a\",\"d\"],\n",
        "         \"d\" : [\"e\"],\n",
        "         \"e\" : [\"d\"]\n",
        "}\n",
        "\n",
        "g = graph(graph_elements)\n",
        "\n",
        "g.addVertex(\"f\")\n",
        "\n",
        "print(g.getVertices())"
      ],
      "metadata": {
        "colab": {
          "base_uri": "https://localhost:8080/"
        },
        "id": "P4W2GltxtQqq",
        "outputId": "777a51b1-94e5-46af-9f74-be813a7e59e9"
      },
      "execution_count": 23,
      "outputs": [
        {
          "output_type": "stream",
          "name": "stdout",
          "text": [
            "['a', 'b', 'c', 'd', 'e', 'f']\n"
          ]
        }
      ]
    },
    {
      "cell_type": "code",
      "source": [
        "#latihan simpul R pada TUV\n",
        "class graph:\n",
        "  def __init__(self, gdict=None):\n",
        "    if gdict is None:\n",
        "        gdict = {}\n",
        "    self.gdict = gdict\n",
        "\n",
        "  def getVertices(self):\n",
        "      return list(self.gdict.keys())\n",
        "\n",
        "#add the vertex as a key\n",
        "  def addVertex(self, vrtx):\n",
        "     if vrtx not in self.gdict:\n",
        "        self.gdict[vrtx] = []\n",
        "\n",
        "#Create the dictionary with graph elements\n",
        "graph_elements = {\n",
        "             \"T\": [\"U\"],\n",
        "    \"U\": [\"T\", \"V\"],\n",
        "    \"V\": [\"U\", \"S\"],\n",
        "    \"W\": [\"X\", \"Z\"],\n",
        "    \"X\": [\"W\", \"S\"],\n",
        "    \"Z\": [\"W\"],\n",
        "    \"S\": [\"V\", \"X\"]\n",
        "}\n",
        "\n",
        "g = graph(graph_elements)\n",
        "\n",
        "g.addVertex(\"R\")\n",
        "\n",
        "print(g.getVertices())"
      ],
      "metadata": {
        "colab": {
          "base_uri": "https://localhost:8080/"
        },
        "id": "m2mCAeSfwofJ",
        "outputId": "b4bede17-2fba-4efd-d272-2acef94e1695"
      },
      "execution_count": 17,
      "outputs": [
        {
          "output_type": "stream",
          "name": "stdout",
          "text": [
            "['T', 'U', 'V', 'W', 'X', 'Z', 'S', 'R']\n"
          ]
        }
      ]
    },
    {
      "cell_type": "code",
      "source": [
        "#latihan simpul K dan J pada Graph rom\n",
        "\n",
        "#latihan simpul R pada TUV\n",
        "class graph:\n",
        "  def __init__(self, gdict=None):\n",
        "    if gdict is None:\n",
        "        gdict = {}\n",
        "    self.gdict = gdict\n",
        "\n",
        "  def getVertices(self):\n",
        "      return list(self.gdict.keys())\n",
        "\n",
        "#add the vertex as a key\n",
        "  def addVertex(self, vrtx):\n",
        "     if vrtx not in self.gdict:\n",
        "        self.gdict[vrtx] = []\n",
        "\n",
        "#Create the dictionary with graph elements\n",
        "graph_elements = {\n",
        "       \"r\": [\"o\", \"l\"],\n",
        "    \"o\": [\"r\", \"m\", \"p\"],\n",
        "    \"m\": [\"o\", \"n\"],\n",
        "    \"l\": [\"r\", \"p\"],\n",
        "    \"p\": [\"o\", \"l\"],\n",
        "    \"n\": [\"m\"]\n",
        "}\n",
        "\n",
        "g = graph(graph_elements)\n",
        "\n",
        "g.addVertex(\"K\")\n",
        "g.addVertex(\"J\")\n",
        "\n",
        "print(g.getVertices())"
      ],
      "metadata": {
        "colab": {
          "base_uri": "https://localhost:8080/"
        },
        "id": "GEKK4un5w3yw",
        "outputId": "37dd9b17-3d0b-4659-feee-a40e8d64cf28"
      },
      "execution_count": 19,
      "outputs": [
        {
          "output_type": "stream",
          "name": "stdout",
          "text": [
            "['r', 'o', 'm', 'l', 'p', 'n', 'K', 'J']\n"
          ]
        }
      ]
    },
    {
      "cell_type": "code",
      "source": [
        "#menambah sudut pada graph\n",
        "\n",
        "class graph:\n",
        "\n",
        "  def __init__(self,gdict=None):\n",
        "    if gdict is None:\n",
        "       gdict = {}\n",
        "    self.gdict = gdict\n",
        "\n",
        "  def edges(self):\n",
        "      return self.findedges()\n",
        "\n",
        "#add the new edge\n",
        "  def AddEdge(self, edge):\n",
        "       edge = set(edge)\n",
        "       (vrtx1, vrtx2) = tuple(edge)\n",
        "       if vrtx1 in self.gdict:\n",
        "           self.gdict[vrtx1].append(vrtx2)\n",
        "       else:\n",
        "          self.gdict[vrtx1] = [vrtx2]\n",
        "\n",
        "#list the edge names\n",
        "  def findedges(self):\n",
        "      edgename = []\n",
        "      for vrtx in self.gdict:\n",
        "          for nxtvrtx in self.gdict[vrtx]:\n",
        "              if {nxtvrtx, vrtx} not in edgename:\n",
        "                 edgename.append({vrtx, nxtvrtx})\n",
        "      return edgename\n",
        "\n",
        "#Create the ditionary with graphelements\n",
        "graph_elements = {\n",
        "         \"a\" : [\"b\",\"c\"],\n",
        "         \"b\" : [\"a\",\"d\"],\n",
        "         \"c\" : [\"a\",\"d\"],\n",
        "         \"d\" : [\"e\"],\n",
        "         \"e\" : [\"d\"]\n",
        "}\n",
        "\n",
        "g = graph(graph_elements)\n",
        "g.AddEdge({'f','b'})\n",
        "g.AddEdge({'f','e'})\n",
        "print(g.edges())"
      ],
      "metadata": {
        "colab": {
          "base_uri": "https://localhost:8080/"
        },
        "id": "Y0c2OnBYxtlZ",
        "outputId": "eff36124-2bbe-498d-e0a9-11a16e0125f4"
      },
      "execution_count": 37,
      "outputs": [
        {
          "output_type": "stream",
          "name": "stdout",
          "text": [
            "[{'a', 'b'}, {'c', 'a'}, {'d', 'b'}, {'d', 'c'}, {'d', 'e'}, {'f', 'b'}, {'f', 'e'}]\n"
          ]
        }
      ]
    },
    {
      "cell_type": "code",
      "source": [
        "#latihan menambahkan sudut pada graph\n",
        "#menambah sudut pada graph\n",
        "\n",
        "class graph:\n",
        "\n",
        "  def __init__(self,gdict=None):\n",
        "    if gdict is None:\n",
        "       gdict = {}\n",
        "    self.gdict = gdict\n",
        "\n",
        "  def edges(self):\n",
        "      return self.findedges()\n",
        "\n",
        "#add the new edge\n",
        "  def AddEdge(self, edge):\n",
        "       edge = set(edge)\n",
        "       (vrtx1, vrtx2) = tuple(edge)\n",
        "       if vrtx1 in self.gdict:\n",
        "           self.gdict[vrtx1].append(vrtx2)\n",
        "       else:\n",
        "          self.gdict[vrtx1] = [vrtx2]\n",
        "\n",
        "#list the edge names\n",
        "  def findedges(self):\n",
        "      edgename = []\n",
        "      for vrtx in self.gdict:\n",
        "          for nxtvrtx in self.gdict[vrtx]:\n",
        "              if {nxtvrtx, vrtx} not in edgename:\n",
        "                 edgename.append({vrtx, nxtvrtx})\n",
        "      return edgename\n",
        "\n",
        "#Create the ditionary with graphelements\n",
        "graph_elements = {\n",
        "         \"T\": [\"U\"],\n",
        "    \"U\": [\"T\", \"V\"],\n",
        "    \"V\": [\"U\", \"S\"],\n",
        "    \"W\": [\"X\", \"Z\"],\n",
        "    \"X\": [\"W\", \"S\"],\n",
        "    \"Z\": [\"W\"],\n",
        "    \"S\": [\"V\", \"X\"]\n",
        "}\n",
        "\n",
        "g = graph(graph_elements)\n",
        "g.AddEdge({'R','Z'})\n",
        "g.AddEdge({'R','S'})\n",
        "print(g.edges())"
      ],
      "metadata": {
        "colab": {
          "base_uri": "https://localhost:8080/"
        },
        "id": "aj-EIVHG6K8v",
        "outputId": "7f28f02c-45c3-431d-a13d-4b29f2b382c8"
      },
      "execution_count": 38,
      "outputs": [
        {
          "output_type": "stream",
          "name": "stdout",
          "text": [
            "[{'U', 'T'}, {'U', 'V'}, {'S', 'V'}, {'X', 'W'}, {'Z', 'W'}, {'S', 'X'}, {'Z', 'R'}, {'S', 'R'}]\n"
          ]
        }
      ]
    },
    {
      "cell_type": "code",
      "source": [
        "#Lathan menambahkan sudut / edges pada graph\n",
        "#latihan menambahkan sudut pada graph\n",
        "#menambah sudut pada graph\n",
        "\n",
        "class graph:\n",
        "\n",
        "  def __init__(self,gdict=None):\n",
        "    if gdict is None:\n",
        "       gdict = {}\n",
        "    self.gdict = gdict\n",
        "\n",
        "  def edges(self):\n",
        "      return self.findedges()\n",
        "\n",
        "#add the new edge\n",
        "  def AddEdge(self, edge):\n",
        "       edge = set(edge)\n",
        "       (vrtx1, vrtx2) = tuple(edge)\n",
        "       if vrtx1 in self.gdict:\n",
        "           self.gdict[vrtx1].append(vrtx2)\n",
        "       else:\n",
        "          self.gdict[vrtx1] = [vrtx2]\n",
        "\n",
        "#list the edge names\n",
        "  def findedges(self):\n",
        "      edgename = []\n",
        "      for vrtx in self.gdict:\n",
        "          for nxtvrtx in self.gdict[vrtx]:\n",
        "              if {nxtvrtx, vrtx} not in edgename:\n",
        "                 edgename.append({vrtx, nxtvrtx})\n",
        "      return edgename\n",
        "\n",
        "#Create the ditionary with graphelements\n",
        "graph_elements = {\n",
        "            \"r\": [\"o\", \"l\"],\n",
        "    \"o\": [\"r\", \"m\", \"p\"],\n",
        "    \"m\": [\"o\", \"n\"],\n",
        "    \"l\": [\"r\", \"p\"],\n",
        "    \"p\": [\"o\", \"l\"],\n",
        "    \"n\": [\"m\"]\n",
        "}\n",
        "\n",
        "g = graph(graph_elements)\n",
        "g.AddEdge({'l','K'})\n",
        "g.AddEdge({'n','J'})\n",
        "print(g.edges())"
      ],
      "metadata": {
        "colab": {
          "base_uri": "https://localhost:8080/"
        },
        "id": "kr-tDDvQ6b23",
        "outputId": "7d185f41-7fb8-451f-dc37-cfeaf25c1e4c"
      },
      "execution_count": 40,
      "outputs": [
        {
          "output_type": "stream",
          "name": "stdout",
          "text": [
            "[{'o', 'r'}, {'l', 'r'}, {'m', 'o'}, {'p', 'o'}, {'m', 'n'}, {'l', 'p'}, {'l', 'K'}, {'n', 'J'}]\n"
          ]
        }
      ]
    }
  ]
}