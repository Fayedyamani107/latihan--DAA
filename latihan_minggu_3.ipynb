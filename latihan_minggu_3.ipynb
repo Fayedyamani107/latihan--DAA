{
  "nbformat": 4,
  "nbformat_minor": 0,
  "metadata": {
    "colab": {
      "provenance": [],
      "authorship_tag": "ABX9TyOt/FOaLLna4ICckfnSog8N",
      "include_colab_link": true
    },
    "kernelspec": {
      "name": "python3",
      "display_name": "Python 3"
    },
    "language_info": {
      "name": "python"
    }
  },
  "cells": [
    {
      "cell_type": "markdown",
      "metadata": {
        "id": "view-in-github",
        "colab_type": "text"
      },
      "source": [
        "<a href=\"https://colab.research.google.com/github/Fayedyamani107/tlatihan-minggu-ke-3/blob/main/latihan_minggu_3.ipynb\" target=\"_parent\"><img src=\"https://colab.research.google.com/assets/colab-badge.svg\" alt=\"Open In Colab\"/></a>"
      ]
    },
    {
      "cell_type": "code",
      "execution_count": 3,
      "metadata": {
        "colab": {
          "base_uri": "https://localhost:8080/"
        },
        "id": "ojN7IxDYNhIy",
        "outputId": "79db985d-2aca-4e8b-8a34-364f2aafe8df"
      },
      "outputs": [
        {
          "output_type": "stream",
          "name": "stdout",
          "text": [
            "['jirou motohashi', '2016081010', 'sistem informasi', ' desain analisis algoritma', '13/9/2023', 'universitas pembangunan jaya']\n"
          ]
        }
      ],
      "source": [
        "from datetime import datetime\n",
        "\n",
        "cdt = datetime.now()\n",
        "date = '%s/%s/%s' %(cdt.day, cdt.month, cdt.year)\n",
        "mahasiswa = ['jirou motohashi', '2016081010','sistem informasi', ' desain analisis algoritma', date, 'universitas pembangunan jaya']\n",
        "\n",
        "print(mahasiswa)"
      ]
    },
    {
      "cell_type": "code",
      "source": [
        "bin_color=['red', 'green', 'blue', 'yellow',]\n",
        "bin_color=[1]\n"
      ],
      "metadata": {
        "id": "dQpP26H2NqlU"
      },
      "execution_count": 4,
      "outputs": []
    },
    {
      "cell_type": "code",
      "source": [
        "print(\"nama :\", mahasiswa [0], \"nim :\", mahasiswa[1], \"institusi :\", mahasiswa[4])"
      ],
      "metadata": {
        "colab": {
          "base_uri": "https://localhost:8080/"
        },
        "id": "Tf5cl1e1R8Zd",
        "outputId": "225b1636-4aeb-40f0-d446-7219835e04bf"
      },
      "execution_count": 7,
      "outputs": [
        {
          "output_type": "stream",
          "name": "stdout",
          "text": [
            "nama : jirou motohashi nim : 2016081010 institusi : 13/9/2023\n"
          ]
        }
      ]
    },
    {
      "cell_type": "code",
      "source": [
        "mahasiswa[1:23]"
      ],
      "metadata": {
        "colab": {
          "base_uri": "https://localhost:8080/"
        },
        "id": "GxLF-POrTm81",
        "outputId": "786b0788-0076-4d3d-a3ea-9277a453b5d3"
      },
      "execution_count": 12,
      "outputs": [
        {
          "output_type": "execute_result",
          "data": {
            "text/plain": [
              "['2016081010',\n",
              " 'sistem informasi',\n",
              " ' desain analisis algoritma',\n",
              " '13/9/2023',\n",
              " 'universitas pembangunan jaya']"
            ]
          },
          "metadata": {},
          "execution_count": 12
        }
      ]
    },
    {
      "cell_type": "code",
      "source": [
        "for a in mahasiswa:\n",
        "  print(a + 'UPJ')"
      ],
      "metadata": {
        "colab": {
          "base_uri": "https://localhost:8080/"
        },
        "id": "LQjzFGx4XvrJ",
        "outputId": "3e98d23a-bdb3-4b23-bedf-e00c44d5f185"
      },
      "execution_count": 14,
      "outputs": [
        {
          "output_type": "stream",
          "name": "stdout",
          "text": [
            "jirou motohashiUPJ\n",
            "2016081010UPJ\n",
            "sistem informasiUPJ\n",
            " desain analisis algoritmaUPJ\n",
            "13/9/2023UPJ\n",
            "universitas pembangunan jayaUPJ\n"
          ]
        }
      ]
    },
    {
      "cell_type": "code",
      "source": [
        "bin_colors=(\"red\",\"green\",\"blue\",\"yellow\")\n",
        "bin_colors[1]\n",
        "bin_colors[2:]"
      ],
      "metadata": {
        "colab": {
          "base_uri": "https://localhost:8080/"
        },
        "id": "H3JKE3TNfOYr",
        "outputId": "83136b7a-3c59-4cca-886e-ad029189e42b"
      },
      "execution_count": 16,
      "outputs": [
        {
          "output_type": "execute_result",
          "data": {
            "text/plain": [
              "('blue', 'yellow')"
            ]
          },
          "metadata": {},
          "execution_count": 16
        }
      ]
    },
    {
      "cell_type": "code",
      "source": [
        "#NESTED TUPLE\n",
        "Pertama=(\"100\")\n",
        "Kedua=(\"200\", \"400\", \"600\")\n",
        "Ketiga=(\"300\")\n",
        "Keempat=(\"400\", \"800\")\n",
        "Total = (Pertama,Kedua,Ketiga,Keempat)\n",
        "print(Total)"
      ],
      "metadata": {
        "colab": {
          "base_uri": "https://localhost:8080/"
        },
        "id": "4KTob4wuk3Qe",
        "outputId": "ab7ff519-9615-4ef9-9cd7-abff67467456"
      },
      "execution_count": 18,
      "outputs": [
        {
          "output_type": "stream",
          "name": "stdout",
          "text": [
            "('100', ('200', '400', '600'), '300', ('400', '800'))\n"
          ]
        }
      ]
    },
    {
      "cell_type": "code",
      "source": [
        "data = {\"nama\": \"jirou\", \"nim\": \"00\", \"prodi\": \"informatika\",\"universitas\": \"upj\"}\n",
        "print(data)\n",
        "data[\"NIM\"] = \"01\"\n",
        "print(data)"
      ],
      "metadata": {
        "colab": {
          "base_uri": "https://localhost:8080/"
        },
        "id": "s1l2bNtOoxwf",
        "outputId": "c48bd39e-09c0-498e-8175-21977c00b7ca"
      },
      "execution_count": 21,
      "outputs": [
        {
          "output_type": "stream",
          "name": "stdout",
          "text": [
            "{'nama': 'jirou', 'nim': '00', 'prodi': 'informatika', 'universitas': 'upj'}\n",
            "{'nama': 'jirou', 'nim': '00', 'prodi': 'informatika', 'universitas': 'upj', 'NIM': '01'}\n"
          ]
        }
      ]
    },
    {
      "cell_type": "code",
      "source": [
        "import pandas as pd\n",
        "\n",
        "mhs = pd.DataFrame({'Prodi': ['Informatika', 'Sistem Informasi', 'Teknik  Sipil'], 'Mahasiswa': [50, 55, 40], 'Laki-laki': [30, 30, 30], 'Perempuan': [20, 25, 10]})\n",
        "print(type(mhs))"
      ],
      "metadata": {
        "colab": {
          "base_uri": "https://localhost:8080/"
        },
        "id": "WCBnXL_RqlAg",
        "outputId": "638c4bde-7022-4470-bf0e-4f96186d3868"
      },
      "execution_count": 25,
      "outputs": [
        {
          "output_type": "stream",
          "name": "stdout",
          "text": [
            "<class 'pandas.core.frame.DataFrame'>\n"
          ]
        }
      ]
    },
    {
      "cell_type": "code",
      "source": [],
      "metadata": {
        "id": "KfVFABirtQUR"
      },
      "execution_count": null,
      "outputs": []
    }
  ]
}