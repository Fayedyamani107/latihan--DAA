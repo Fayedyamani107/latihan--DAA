{
  "nbformat": 4,
  "nbformat_minor": 0,
  "metadata": {
    "colab": {
      "provenance": [],
      "authorship_tag": "ABX9TyMWa7Pe4YfaFU37mWTKO/Cf",
      "include_colab_link": true
    },
    "kernelspec": {
      "name": "python3",
      "display_name": "Python 3"
    },
    "language_info": {
      "name": "python"
    }
  },
  "cells": [
    {
      "cell_type": "markdown",
      "metadata": {
        "id": "view-in-github",
        "colab_type": "text"
      },
      "source": [
        "<a href=\"https://colab.research.google.com/github/Fayedyamani107/latihan--DAA/blob/main/Tugas_minggu_5.ipynb\" target=\"_parent\"><img src=\"https://colab.research.google.com/assets/colab-badge.svg\" alt=\"Open In Colab\"/></a>"
      ]
    },
    {
      "cell_type": "code",
      "execution_count": null,
      "metadata": {
        "colab": {
          "base_uri": "https://localhost:8080/"
        },
        "id": "B46QqbPEDJLx",
        "outputId": "fe5d9d22-400d-4357-a8b2-10b33e2ff443"
      },
      "outputs": [
        {
          "output_type": "stream",
          "name": "stdout",
          "text": [
            "6\n"
          ]
        }
      ],
      "source": [
        "def countInversion(arr):\n",
        "  result=0\n",
        "  for i in range(len(arr)):\n",
        "    for j in range(i+1,len(arr)):\n",
        "      if arr[i]>arr[j]:\n",
        "        result+=1\n",
        "  return result\n",
        "\n",
        "arr=[21, 70, 36, 14, 25]\n",
        "\n",
        "result=countInversion(arr)\n",
        "print(result)"
      ]
    },
    {
      "cell_type": "code",
      "source": [
        "def countInversion(arr):\n",
        "    icount = 0\n",
        "    if len(arr) <= 1:\n",
        "        return icount\n",
        "\n",
        "    mid = len(arr) // 2\n",
        "    left = arr[:mid]\n",
        "    right = arr[mid:]\n",
        "    icount += countInversion(left)\n",
        "    icount += countInversion(right)\n",
        "    i = j = k = 0\n",
        "\n",
        "    while i < len(left) and j < len(right):\n",
        "        if left[i] < right[j]:\n",
        "            arr[k] = left[i]\n",
        "            i += 1\n",
        "        else:\n",
        "            arr[k] = right[j]\n",
        "            j += 1\n",
        "            icount += (mid - i)\n",
        "        k += 1\n",
        "\n",
        "    while i < len(left):\n",
        "        arr[k] = left[i]\n",
        "        i += 1\n",
        "        k += 1\n",
        "    while j < len(right):\n",
        "        arr[k] = right[j]\n",
        "        j += 1\n",
        "        k += 1\n",
        "\n",
        "    return icount\n",
        "\n",
        "arr = [1, 20, 6, 4, 5]\n",
        "result = countInversion(arr)\n",
        "print(result)\n"
      ],
      "metadata": {
        "colab": {
          "base_uri": "https://localhost:8080/"
        },
        "id": "3VJ3hJH3Gv02",
        "outputId": "40c14f68-4cc3-4104-f23f-a09909e03254"
      },
      "execution_count": null,
      "outputs": [
        {
          "output_type": "stream",
          "name": "stdout",
          "text": [
            "5\n"
          ]
        }
      ]
    },
    {
      "cell_type": "code",
      "source": [
        "def maxSubSum(arr):\n",
        "    max_so_far = float('-inf')\n",
        "    max_ending_here = 0\n",
        "\n",
        "    for i in range(len(arr)):\n",
        "        max_ending_here += arr[i]\n",
        "        if max_ending_here > max_so_far:\n",
        "            max_so_far = max_ending_here\n",
        "        if max_ending_here < 0:\n",
        "            max_ending_here = 0\n",
        "\n",
        "    return max_so_far\n",
        "\n",
        "arr = [-2, -5, 6, -2, -3, 1, 5, -6]\n",
        "result = maxSubSum(arr)\n",
        "print(result)"
      ],
      "metadata": {
        "colab": {
          "base_uri": "https://localhost:8080/"
        },
        "id": "J7AmjHjZL7OD",
        "outputId": "996ecde3-5ea8-4f1d-d657-c43bf5f448af"
      },
      "execution_count": null,
      "outputs": [
        {
          "output_type": "stream",
          "name": "stdout",
          "text": [
            "7\n"
          ]
        }
      ]
    },
    {
      "cell_type": "code",
      "source": [
        "def maxCrossingSum(arr, low, mid, high):\n",
        "    result = 0\n",
        "    leftSum = float('-infinity')\n",
        "    tempSum = 0\n",
        "    for i in range(mid, low - 1, -1):\n",
        "        tempSum += arr[i]\n",
        "        if tempSum > leftSum:\n",
        "            leftSum = tempSum\n",
        "\n",
        "    result = 0\n",
        "    rightSum = float('-infinity')\n",
        "    tempSum = 0\n",
        "    for i in range(mid + 1, high + 1):\n",
        "        tempSum += arr[i]\n",
        "        if tempSum > rightSum:\n",
        "            rightSum = tempSum\n",
        "\n",
        "    return leftSum + rightSum\n",
        "\n",
        "def maxSum(arr, low, high):\n",
        "    if low == high:\n",
        "        return arr[low]\n",
        "    mid = (low + high) // 2\n",
        "    return max(\n",
        "        maxSum(arr, low, mid),\n",
        "        maxSum(arr, mid + 1, high),\n",
        "        maxCrossingSum(arr, low, mid, high)\n",
        "    )\n",
        "\n",
        "arr = [-2, -5, 6, -2, -3, 1, 5, -6]\n",
        "result = maxSum(arr, 0, len(arr) - 1)\n",
        "print(result)\n"
      ],
      "metadata": {
        "id": "WMXrsubnMsSO",
        "colab": {
          "base_uri": "https://localhost:8080/"
        },
        "outputId": "faef22ce-9012-42a9-c1c6-9f74caa532a0"
      },
      "execution_count": 4,
      "outputs": [
        {
          "output_type": "stream",
          "name": "stdout",
          "text": [
            "7\n"
          ]
        }
      ]
    },
    {
      "cell_type": "code",
      "source": [
        "def commonPrefix(str1, str2):\n",
        "    n1 = len(str1)\n",
        "    n2 = len(str2)\n",
        "    i, j = 0, 0\n",
        "    s = \"\"\n",
        "    while i < n1 and j < n2:\n",
        "        if str1[i] == str2[j]:\n",
        "            s += str1[i]\n",
        "            i += 1\n",
        "            j += 1\n",
        "        else:\n",
        "            break\n",
        "    return s\n",
        "\n",
        "def longestCommonPrefix(arr, low, high):\n",
        "    if low == high:\n",
        "        return arr[low]\n",
        "    mid = (low + high) // 2\n",
        "    result1 = longestCommonPrefix(arr, low, mid)\n",
        "    result2 = longestCommonPrefix(arr, mid + 1, high)\n",
        "    result = commonPrefix(result1, result2)\n",
        "    return result\n",
        "\n",
        "arr = ['geekforgeeks', 'geeks', 'geek', 'geezer']\n",
        "result = longestCommonPrefix(arr, 0, len(arr) - 1)\n",
        "print(result)\n"
      ],
      "metadata": {
        "colab": {
          "base_uri": "https://localhost:8080/"
        },
        "id": "Y_ZwkVjRkNa2",
        "outputId": "03a19040-3fa8-490c-fa7a-0f843b8d1537"
      },
      "execution_count": 11,
      "outputs": [
        {
          "output_type": "stream",
          "name": "stdout",
          "text": [
            "gee\n"
          ]
        }
      ]
    },
    {
      "cell_type": "code",
      "source": [
        "arr=[\"apple\", \"ape\", \"april\"]\n",
        "result=longestCommonPrefix(arr,0,len(arr)-1)\n",
        "print(result)"
      ],
      "metadata": {
        "colab": {
          "base_uri": "https://localhost:8080/"
        },
        "id": "4c-6lxTcptPz",
        "outputId": "a5752341-8894-49bc-fd19-76d3e3e760f7"
      },
      "execution_count": 12,
      "outputs": [
        {
          "output_type": "stream",
          "name": "stdout",
          "text": [
            "ap\n"
          ]
        }
      ]
    },
    {
      "cell_type": "code",
      "source": [
        "def medianOfArray(arr1,arr2,n):\n",
        "  m1=-1\n",
        "  m2=-2\n",
        "  count=0\n",
        "  i=j=0\n",
        "  while count<n+1:\n",
        "    count+=1\n",
        "    if i==n:\n",
        "      m1=m2\n",
        "      m2=arr2[0]\n",
        "      break\n",
        "    if j==n:\n",
        "      m1=m2\n",
        "      m2=arr1[0]\n",
        "      break\n",
        "    if arr1[i]<arr2[j]:\n",
        "      m1=m2\n",
        "      m2=arr1[i]\n",
        "      i+=1\n",
        "    else:\n",
        "      m1=m2\n",
        "      m2=arr2[j]\n",
        "      j+=1\n",
        "  return (m1+m2)//2\n",
        "\n",
        "arr1=[1,12,15,26,38]\n",
        "arr2=[2,13,17,30,45]\n",
        "print(medianOfArray(arr1,arr2,len(arr1)))"
      ],
      "metadata": {
        "colab": {
          "base_uri": "https://localhost:8080/"
        },
        "id": "_HGDHP87qzTM",
        "outputId": "9f1096f9-a4dd-4317-ffb5-c23263591a15"
      },
      "execution_count": 14,
      "outputs": [
        {
          "output_type": "stream",
          "name": "stdout",
          "text": [
            "16\n"
          ]
        }
      ]
    },
    {
      "cell_type": "code",
      "source": [
        "def floorSorted(arr, low, high, x):\n",
        "    if low > high:\n",
        "        return -1\n",
        "    if arr[low] > x:\n",
        "        return -1\n",
        "    if arr[high] <= x:\n",
        "        return arr[high]\n",
        "    mid = (low + high) // 2\n",
        "    if arr[mid] == x:\n",
        "        return arr[mid]\n",
        "    if mid > 0 and x >= arr[mid - 1] and arr[mid] > x:\n",
        "        return arr[mid - 1]\n",
        "    if mid < high and x < arr[mid + 1] and x >= arr[mid]:\n",
        "        return arr[mid]\n",
        "    if x > arr[mid]:\n",
        "        return floorSorted(arr, mid + 1, high, x)\n",
        "    else:\n",
        "        return floorSorted(arr, low, mid - 1, x)\n",
        "\n",
        "arr = [1, 2, 8, 10, 12, 14, 19]\n",
        "x = 5\n",
        "print(floorSorted(arr, 0, len(arr) - 1, x))"
      ],
      "metadata": {
        "colab": {
          "base_uri": "https://localhost:8080/"
        },
        "id": "ONnx7AYPwM7G",
        "outputId": "20d6d8cd-925e-4c17-a76e-2f5ed2439e06"
      },
      "execution_count": 18,
      "outputs": [
        {
          "output_type": "stream",
          "name": "stdout",
          "text": [
            "2\n"
          ]
        }
      ]
    },
    {
      "cell_type": "code",
      "source": [
        "def closestNumber(arr, low, high, x):\n",
        "    if low > high:\n",
        "        return -1\n",
        "    if arr[high] <= x:\n",
        "        return arr[high]\n",
        "    if arr[low] >= x:\n",
        "        return arr[low]\n",
        "\n",
        "    mid = (low + high) // 2\n",
        "    if arr[mid] == x:\n",
        "        return arr[mid]\n",
        "\n",
        "    abs_mid = abs(arr[mid] - x)\n",
        "\n",
        "    if mid > 0:\n",
        "        abs_left = abs(arr[mid - 1] - x)\n",
        "        if abs_left < abs_mid:\n",
        "            return closestNumber(arr, low, mid - 1, x)\n",
        "\n",
        "    if mid < high:\n",
        "        abs_right = abs(arr[mid + 1] - x)\n",
        "        if abs_right < abs_mid:\n",
        "            return closestNumber(arr, mid + 1, high, x)\n",
        "\n",
        "    return arr[mid]\n",
        "\n",
        "arr = [2, 5, 6, 7, 8, 8, 9]\n",
        "x = 9\n",
        "print(closestNumber(arr, 0, len(arr) - 1, x))\n"
      ],
      "metadata": {
        "colab": {
          "base_uri": "https://localhost:8080/"
        },
        "id": "0m1Et6Et9aQY",
        "outputId": "e022b499-1518-42bb-9cbe-c7e15d1724e1"
      },
      "execution_count": 21,
      "outputs": [
        {
          "output_type": "stream",
          "name": "stdout",
          "text": [
            "9\n"
          ]
        }
      ]
    },
    {
      "cell_type": "code",
      "source": [
        "def fixedPoint(arr,low,high):\n",
        "  if low>high:\n",
        "    return -1\n",
        "  if arr[high]==high:\n",
        "    return arr[high]\n",
        "  if arr[low]==low:\n",
        "    return arr[low]\n",
        "  mid=(low+high)//2\n",
        "  if arr[mid]==mid:\n",
        "    return arr[mid]\n",
        "  if mid>arr[mid]:\n",
        "    return fixedPoint(arr,mid+1,high)\n",
        "  else:\n",
        "    return fixedPoint(arr,low,mid-1)\n",
        "\n",
        "arr=[9,1,4,5,2]\n",
        "print(fixedPoint(arr,0,len(arr)-1))"
      ],
      "metadata": {
        "colab": {
          "base_uri": "https://localhost:8080/"
        },
        "id": "M9MKi5wWAuUu",
        "outputId": "98653a62-38e1-478c-b425-517104435b36"
      },
      "execution_count": 22,
      "outputs": [
        {
          "output_type": "stream",
          "name": "stdout",
          "text": [
            "1\n"
          ]
        }
      ]
    }
  ]
}