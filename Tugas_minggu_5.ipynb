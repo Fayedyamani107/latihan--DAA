{
  "nbformat": 4,
  "nbformat_minor": 0,
  "metadata": {
    "colab": {
      "provenance": [],
      "authorship_tag": "ABX9TyNlaJRS5QpEbgV9XEnpCmt3",
      "include_colab_link": true
    },
    "kernelspec": {
      "name": "python3",
      "display_name": "Python 3"
    },
    "language_info": {
      "name": "python"
    }
  },
  "cells": [
    {
      "cell_type": "markdown",
      "metadata": {
        "id": "view-in-github",
        "colab_type": "text"
      },
      "source": [
        "<a href=\"https://colab.research.google.com/github/Fayedyamani107/latihan--DAA/blob/main/Tugas_minggu_5.ipynb\" target=\"_parent\"><img src=\"https://colab.research.google.com/assets/colab-badge.svg\" alt=\"Open In Colab\"/></a>"
      ]
    },
    {
      "cell_type": "code",
      "source": [
        "def divideAndConquer_Max(arr, ind, length):\n",
        "    maximum = -1\n",
        "\n",
        "    if ind >= length - 2:\n",
        "        if arr[ind] > arr[ind + 1]:\n",
        "            return arr[ind]\n",
        "        else:\n",
        "            return arr[ind + 1]\n",
        "\n",
        "    maximum = divideAndConquer_Max(arr, ind + 1, length)\n",
        "\n",
        "    if arr[ind] > maximum:\n",
        "        return arr[ind]\n",
        "    else:\n",
        "        return maximum\n",
        "\n",
        "def divideAndConquer_Min(arr, ind, length):\n",
        "    if ind >= length - 2:\n",
        "        if arr[ind] < arr[ind + 1]:\n",
        "            return arr[ind]\n",
        "        else:\n",
        "            return arr[ind + 1]\n",
        "\n",
        "    minimum = divideAndConquer_Min(arr, ind + 1, length)\n",
        "\n",
        "    if arr[ind] < minimum:\n",
        "        return arr[ind]\n",
        "    else:\n",
        "        return minimum\n",
        "\n",
        "if __name__ == '__main__':\n",
        "    minimum, maximum = float('inf'), -1\n",
        "\n",
        "    # Array initialization\n",
        "    arr = [4, 12, 23, 9, 21, 1, 35, 2, 24]\n",
        "\n",
        "    maximum = divideAndConquer_Max(arr, 0, len(arr))\n",
        "    minimum = divideAndConquer_Min(arr, 0, len(arr))\n",
        "\n",
        "    print(\"The minimum number in the array is\", minimum)\n",
        "    print(\"The maximum number in the array is\", maximum)"
      ],
      "metadata": {
        "colab": {
          "base_uri": "https://localhost:8080/"
        },
        "id": "qAK_bQ7PO992",
        "outputId": "9b1b726c-7766-423b-9a30-11b9ce7dfa9f"
      },
      "execution_count": 29,
      "outputs": [
        {
          "output_type": "stream",
          "name": "stdout",
          "text": [
            "The minimum number in the array is 1\n",
            "The maximum number in the array is 35\n"
          ]
        }
      ]
    },
    {
      "cell_type": "code",
      "source": [
        "def mergeSort(array):\n",
        "  if len(array) > 1:\n",
        "\n",
        "    r = len(array)//2\n",
        "    L = array[:r]\n",
        "    M = array[r:]\n",
        "\n",
        "    mergeSort(L)\n",
        "    mergeSort(M)\n",
        "\n",
        "    i = j = k = 0\n",
        "\n",
        "    while i < len(L) and j < len(M):\n",
        "      if L[i] < M[j]:\n",
        "        array [k] = L[i]\n",
        "        i += 1\n",
        "      else:\n",
        "          array[k] = M[j]\n",
        "          j += 1\n",
        "\n",
        "      k += 1\n",
        "\n",
        "    while i < len(L):\n",
        "      array[k] = L[i]\n",
        "      i += 1\n",
        "      k += 1\n",
        "\n",
        "    while j < len(M):\n",
        "      array[k] = M[j]\n",
        "      j += 1\n",
        "      k += 1\n",
        "\n",
        "def printlist(array):\n",
        "  for i in range(len(array)):\n",
        "    print(array[i], end=\" \")\n",
        "  print()\n",
        "\n",
        "if __name__ == '__main__':\n",
        "  array = [4, 12, 23, 9, 21, 1, 35, 2, 24]\n",
        "\n",
        "  mergeSort(array)\n",
        "  print(\"Sorted array is: \")\n",
        "  printlist(array)"
      ],
      "metadata": {
        "colab": {
          "base_uri": "https://localhost:8080/"
        },
        "id": "H9ndQPOsV3hF",
        "outputId": "c626f79a-118f-43eb-a5d4-d28be535084a"
      },
      "execution_count": 41,
      "outputs": [
        {
          "output_type": "stream",
          "name": "stdout",
          "text": [
            "Sorted array is: \n",
            "1 2 4 9 12 21 23 24 35 \n"
          ]
        }
      ]
    },
    {
      "cell_type": "code",
      "source": [
        "def partition(array, low, high):\n",
        "    pivot = array[high]\n",
        "    i = low - 1\n",
        "    for j in range(low, high):\n",
        "        if array[j] <= pivot:\n",
        "            i = i + 1\n",
        "            array[i], array[j] = array[j], array[i]\n",
        "    array[i + 1], array[high] = array[high], array[i + 1]\n",
        "    return i + 1\n",
        "\n",
        "def quickSort(array, low, high):\n",
        "    if low < high:\n",
        "        pi = partition(array, low, high)\n",
        "        quickSort(array, low, pi - 1)\n",
        "        quickSort(array, pi + 1, high)\n",
        "\n",
        "data = [4, 12, 23, 9, 21, 1, 35, 2, 24]\n",
        "print(\"Unsorted Array\")\n",
        "print(data)\n",
        "\n",
        "size = len(data)\n",
        "quickSort(data, 0, size - 1)\n",
        "\n",
        "print('Sorted Array in Ascending Order:')\n",
        "print(data)\n"
      ],
      "metadata": {
        "colab": {
          "base_uri": "https://localhost:8080/"
        },
        "id": "PITsyxjSaj1t",
        "outputId": "cb3cb089-84a3-49e8-d19c-ff8c059cfb17"
      },
      "execution_count": 40,
      "outputs": [
        {
          "output_type": "stream",
          "name": "stdout",
          "text": [
            "Unsorted Array\n",
            "[4, 12, 23, 9, 21, 1, 35, 2, 24]\n",
            "Sorted Array in Ascending Order:\n",
            "[1, 2, 4, 9, 12, 21, 23, 24, 35]\n"
          ]
        }
      ]
    },
    {
      "cell_type": "code",
      "execution_count": null,
      "metadata": {
        "colab": {
          "base_uri": "https://localhost:8080/"
        },
        "id": "B46QqbPEDJLx",
        "outputId": "de13b514-932c-44ae-a463-323a10cbcded"
      },
      "outputs": [
        {
          "output_type": "stream",
          "name": "stdout",
          "text": [
            "6\n"
          ]
        }
      ],
      "source": [
        "def countInversion(arr):\n",
        "  result=0\n",
        "  for i in range(len(arr)):\n",
        "    for j in range(i+1,len(arr)):\n",
        "      if arr[i]>arr[j]:\n",
        "        result+=1\n",
        "  return result\n",
        "\n",
        "arr=[21, 70, 36, 14, 25]\n",
        "\n",
        "result=countInversion(arr)\n",
        "print(result)"
      ]
    },
    {
      "cell_type": "code",
      "source": [
        "def countInversion(arr):\n",
        "    icount = 0\n",
        "    if len(arr) <= 1:\n",
        "        return icount\n",
        "\n",
        "    mid = len(arr) // 2\n",
        "    left = arr[:mid]\n",
        "    right = arr[mid:]\n",
        "    icount += countInversion(left)\n",
        "    icount += countInversion(right)\n",
        "    i = j = k = 0\n",
        "\n",
        "    while i < len(left) and j < len(right):\n",
        "        if left[i] < right[j]:\n",
        "            arr[k] = left[i]\n",
        "            i += 1\n",
        "        else:\n",
        "            arr[k] = right[j]\n",
        "            j += 1\n",
        "            icount += (mid - i)\n",
        "        k += 1\n",
        "\n",
        "    while i < len(left):\n",
        "        arr[k] = left[i]\n",
        "        i += 1\n",
        "        k += 1\n",
        "    while j < len(right):\n",
        "        arr[k] = right[j]\n",
        "        j += 1\n",
        "        k += 1\n",
        "\n",
        "    return icount\n",
        "\n",
        "arr = [1, 20, 6, 4, 5]\n",
        "result = countInversion(arr)\n",
        "print(result)\n"
      ],
      "metadata": {
        "colab": {
          "base_uri": "https://localhost:8080/"
        },
        "id": "3VJ3hJH3Gv02",
        "outputId": "879190bf-58be-4515-d3c6-54d4d5f8f787"
      },
      "execution_count": 11,
      "outputs": [
        {
          "output_type": "stream",
          "name": "stdout",
          "text": [
            "5\n"
          ]
        }
      ]
    },
    {
      "cell_type": "code",
      "source": [
        "def maxSubSum(arr):\n",
        "    max_so_far = float('-inf')\n",
        "    max_ending_here = 0\n",
        "\n",
        "    for i in range(len(arr)):\n",
        "        max_ending_here += arr[i]\n",
        "        if max_ending_here > max_so_far:\n",
        "            max_so_far = max_ending_here\n",
        "        if max_ending_here < 0:\n",
        "            max_ending_here = 0\n",
        "\n",
        "    return max_so_far\n",
        "\n",
        "arr = [-2, -5, 6, -2, -3, 1, 5, -6]\n",
        "result = maxSubSum(arr)\n",
        "print(result)"
      ],
      "metadata": {
        "colab": {
          "base_uri": "https://localhost:8080/"
        },
        "id": "J7AmjHjZL7OD",
        "outputId": "f3249ba7-8813-4495-c370-a2d41c5e22b7"
      },
      "execution_count": null,
      "outputs": [
        {
          "output_type": "stream",
          "name": "stdout",
          "text": [
            "7\n"
          ]
        }
      ]
    },
    {
      "cell_type": "code",
      "source": [
        "def maxCrossingSum(arr, low, mid, high):\n",
        "    result = 0\n",
        "    leftSum = float('-infinity')\n",
        "    tempSum = 0\n",
        "    for i in range(mid, low - 1, -1):\n",
        "        tempSum += arr[i]\n",
        "        if tempSum > leftSum:\n",
        "            leftSum = tempSum\n",
        "\n",
        "    result = 0\n",
        "    rightSum = float('-infinity')\n",
        "    tempSum = 0\n",
        "    for i in range(mid + 1, high + 1):\n",
        "        tempSum += arr[i]\n",
        "        if tempSum > rightSum:\n",
        "            rightSum = tempSum\n",
        "\n",
        "    return leftSum + rightSum\n",
        "\n",
        "def maxSum(arr, low, high):\n",
        "    if low == high:\n",
        "        return arr[low]\n",
        "    mid = (low + high) // 2\n",
        "    return max(\n",
        "        maxSum(arr, low, mid),\n",
        "        maxSum(arr, mid + 1, high),\n",
        "        maxCrossingSum(arr, low, mid, high)\n",
        "    )\n",
        "\n",
        "arr = [-2, -5, 6, -2, -3, 1, 5, -6]\n",
        "result = maxSum(arr, 0, len(arr) - 1)\n",
        "print(result)\n"
      ],
      "metadata": {
        "id": "WMXrsubnMsSO",
        "colab": {
          "base_uri": "https://localhost:8080/"
        },
        "outputId": "0cd547dc-d7e9-4d73-9a80-183267021082"
      },
      "execution_count": null,
      "outputs": [
        {
          "output_type": "stream",
          "name": "stdout",
          "text": [
            "7\n"
          ]
        }
      ]
    },
    {
      "cell_type": "code",
      "source": [
        "def commonPrefix(str1, str2):\n",
        "    n1 = len(str1)\n",
        "    n2 = len(str2)\n",
        "    i, j = 0, 0\n",
        "    s = \"\"\n",
        "    while i < n1 and j < n2:\n",
        "        if str1[i] == str2[j]:\n",
        "            s += str1[i]\n",
        "            i += 1\n",
        "            j += 1\n",
        "        else:\n",
        "            break\n",
        "    return s\n",
        "\n",
        "def longestCommonPrefix(arr, low, high):\n",
        "    if low == high:\n",
        "        return arr[low]\n",
        "    mid = (low + high) // 2\n",
        "    result1 = longestCommonPrefix(arr, low, mid)\n",
        "    result2 = longestCommonPrefix(arr, mid + 1, high)\n",
        "    result = commonPrefix(result1, result2)\n",
        "    return result\n",
        "\n",
        "arr = ['geekforgeeks', 'geeks', 'geek', 'geezer']\n",
        "result = longestCommonPrefix(arr, 0, len(arr) - 1)\n",
        "print(result)\n"
      ],
      "metadata": {
        "colab": {
          "base_uri": "https://localhost:8080/"
        },
        "id": "Y_ZwkVjRkNa2",
        "outputId": "8bf82dcf-18f6-4b78-b0da-4c7ff38e0049"
      },
      "execution_count": null,
      "outputs": [
        {
          "output_type": "stream",
          "name": "stdout",
          "text": [
            "gee\n"
          ]
        }
      ]
    },
    {
      "cell_type": "code",
      "source": [
        "arr=[\"apple\", \"ape\", \"april\"]\n",
        "result=longestCommonPrefix(arr,0,len(arr)-1)\n",
        "print(result)"
      ],
      "metadata": {
        "colab": {
          "base_uri": "https://localhost:8080/"
        },
        "id": "4c-6lxTcptPz",
        "outputId": "9a73e542-cb71-42a0-b10f-d3ab0b085e80"
      },
      "execution_count": null,
      "outputs": [
        {
          "output_type": "stream",
          "name": "stdout",
          "text": [
            "ap\n"
          ]
        }
      ]
    },
    {
      "cell_type": "code",
      "source": [
        "def medianOfArray(arr1,arr2,n):\n",
        "  m1=-1\n",
        "  m2=-2\n",
        "  count=0\n",
        "  i=j=0\n",
        "  while count<n+1:\n",
        "    count+=1\n",
        "    if i==n:\n",
        "      m1=m2\n",
        "      m2=arr2[0]\n",
        "      break\n",
        "    if j==n:\n",
        "      m1=m2\n",
        "      m2=arr1[0]\n",
        "      break\n",
        "    if arr1[i]<arr2[j]:\n",
        "      m1=m2\n",
        "      m2=arr1[i]\n",
        "      i+=1\n",
        "    else:\n",
        "      m1=m2\n",
        "      m2=arr2[j]\n",
        "      j+=1\n",
        "  return (m1+m2)//2\n",
        "\n",
        "arr1=[1,12,15,26,38]\n",
        "arr2=[2,13,17,30,45]\n",
        "print(medianOfArray(arr1,arr2,len(arr1)))"
      ],
      "metadata": {
        "colab": {
          "base_uri": "https://localhost:8080/"
        },
        "id": "_HGDHP87qzTM",
        "outputId": "2b7d5b38-008d-4e44-8bab-ceb3e3bb7273"
      },
      "execution_count": null,
      "outputs": [
        {
          "output_type": "stream",
          "name": "stdout",
          "text": [
            "16\n"
          ]
        }
      ]
    },
    {
      "cell_type": "code",
      "source": [
        "def Solution (arr):\n",
        "  n = len(arr)\n",
        "  if n % 2 == 0:\n",
        "       z = n // 2\n",
        "       e = arr[z]\n",
        "       q = arr[z - 1]\n",
        "       ans = (e + q) / 2\n",
        "       return ans\n",
        "  else:\n",
        "       z = n // 2\n",
        "       ans = arr[z]\n",
        "       return ans\n",
        "\n",
        "arr1 = [-5, 3, 6, 12, 15]\n",
        "arr2 = [-12, -10, -6, -3, 4, 10]\n",
        "arr3 = arr1 + arr2\n",
        "\n",
        "arr3.sort()\n",
        "print(\"Median = \", Solution(arr3))"
      ],
      "metadata": {
        "colab": {
          "base_uri": "https://localhost:8080/"
        },
        "id": "xg5QiX4HeS68",
        "outputId": "cb794512-9e74-4716-a307-a8ca9b17aca1"
      },
      "execution_count": 42,
      "outputs": [
        {
          "output_type": "stream",
          "name": "stdout",
          "text": [
            "Median =  3\n"
          ]
        }
      ]
    },
    {
      "cell_type": "code",
      "source": [
        "def floorSorted(arr, low, high, x):\n",
        "    if low > high:\n",
        "        return -1\n",
        "    if arr[low] > x:\n",
        "        return -1\n",
        "    if arr[high] <= x:\n",
        "        return arr[high]\n",
        "    mid = (low + high) // 2\n",
        "    if arr[mid] == x:\n",
        "        return arr[mid]\n",
        "    if mid > 0 and x >= arr[mid - 1] and arr[mid] > x:\n",
        "        return arr[mid - 1]\n",
        "    if mid < high and x < arr[mid + 1] and x >= arr[mid]:\n",
        "        return arr[mid]\n",
        "    if x > arr[mid]:\n",
        "        return floorSorted(arr, mid + 1, high, x)\n",
        "    else:\n",
        "        return floorSorted(arr, low, mid - 1, x)\n",
        "\n",
        "arr = [1, 2, 8, 10, 12, 14, 19]\n",
        "x = 5\n",
        "print(floorSorted(arr, 0, len(arr) - 1, x))"
      ],
      "metadata": {
        "colab": {
          "base_uri": "https://localhost:8080/"
        },
        "id": "ONnx7AYPwM7G",
        "outputId": "c0d1829a-edc8-44ba-b205-2ebd6fba9a65"
      },
      "execution_count": null,
      "outputs": [
        {
          "output_type": "stream",
          "name": "stdout",
          "text": [
            "2\n"
          ]
        }
      ]
    },
    {
      "cell_type": "code",
      "source": [
        "def closestNumber(arr, low, high, x):\n",
        "    if low > high:\n",
        "        return -1\n",
        "    if arr[high] <= x:\n",
        "        return arr[high]\n",
        "    if arr[low] >= x:\n",
        "        return arr[low]\n",
        "\n",
        "    mid = (low + high) // 2\n",
        "    if arr[mid] == x:\n",
        "        return arr[mid]\n",
        "\n",
        "    abs_mid = abs(arr[mid] - x)\n",
        "\n",
        "    if mid > 0:\n",
        "        abs_left = abs(arr[mid - 1] - x)\n",
        "        if abs_left < abs_mid:\n",
        "            return closestNumber(arr, low, mid - 1, x)\n",
        "\n",
        "    if mid < high:\n",
        "        abs_right = abs(arr[mid + 1] - x)\n",
        "        if abs_right < abs_mid:\n",
        "            return closestNumber(arr, mid + 1, high, x)\n",
        "\n",
        "    return arr[mid]\n",
        "\n",
        "arr = [2, 5, 6, 7, 8, 8, 9]\n",
        "x = 9\n",
        "print(closestNumber(arr, 0, len(arr) - 1, x))\n"
      ],
      "metadata": {
        "colab": {
          "base_uri": "https://localhost:8080/"
        },
        "id": "0m1Et6Et9aQY",
        "outputId": "6d1504a3-d1d4-403b-89ff-58606c40e3c1"
      },
      "execution_count": null,
      "outputs": [
        {
          "output_type": "stream",
          "name": "stdout",
          "text": [
            "9\n"
          ]
        }
      ]
    },
    {
      "cell_type": "code",
      "source": [
        "def fixedPoint(arr,low,high):\n",
        "  if low>high:\n",
        "    return -1\n",
        "  if arr[high]==high:\n",
        "    return arr[high]\n",
        "  if arr[low]==low:\n",
        "    return arr[low]\n",
        "  mid=(low+high)//2\n",
        "  if arr[mid]==mid:\n",
        "    return arr[mid]\n",
        "  if mid>arr[mid]:\n",
        "    return fixedPoint(arr,mid+1,high)\n",
        "  else:\n",
        "    return fixedPoint(arr,low,mid-1)\n",
        "\n",
        "arr=[9,1,4,5,2]\n",
        "print(fixedPoint(arr,0,len(arr)-1))"
      ],
      "metadata": {
        "colab": {
          "base_uri": "https://localhost:8080/"
        },
        "id": "M9MKi5wWAuUu",
        "outputId": "a2398970-09e3-42b3-e5c2-6f30bcb610e7"
      },
      "execution_count": 12,
      "outputs": [
        {
          "output_type": "stream",
          "name": "stdout",
          "text": [
            "1\n"
          ]
        }
      ]
    }
  ]
}